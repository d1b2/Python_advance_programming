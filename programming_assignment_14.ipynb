{
 "cells": [
  {
   "cell_type": "markdown",
   "id": "1ae209b4-f3a4-48cb-80e5-edd93da63091",
   "metadata": {},
   "source": [
    "Question 1:Define a class with a generator which can iterate the numbers, which are divisible by 7, between a given range 0 and n."
   ]
  },
  {
   "cell_type": "code",
   "execution_count": 1,
   "id": "a2677b92-15b3-4bc2-9b20-e8391e3981a2",
   "metadata": {},
   "outputs": [
    {
     "name": "stdin",
     "output_type": "stream",
     "text": [
      "Enter a value for n:  30\n"
     ]
    },
    {
     "name": "stdout",
     "output_type": "stream",
     "text": [
      "0\n",
      "7\n",
      "14\n",
      "21\n",
      "28\n"
     ]
    }
   ],
   "source": [
    "class SevenDivisible:\n",
    "    def __init__(self, n):\n",
    "        self.n = n\n",
    "\n",
    "    def gen_seven(self):\n",
    "        for num in range(self.n + 1):\n",
    "            if num % 7 == 0:\n",
    "                yield num\n",
    "\n",
    "### Driver code\n",
    "n = int(input(\"Enter a value for n: \"))\n",
    "generator = SevenDivisible(n)\n",
    "\n",
    "for num in generator.gen_seven():\n",
    "    print(num)"
   ]
  },
  {
   "cell_type": "markdown",
   "id": "f5a8fb70-51af-4dcb-a40a-503a396d1f19",
   "metadata": {},
   "source": [
    "Question 2:Write a program to compute the frequency of the words from the input. The output should output after sorting the key alphanumerically. \n",
    "Suppose the following input is supplied to the program:\n",
    "New to Python or choosing between Python 2 and Python 3? Read Python 2 or Python 3.\n",
    "\n",
    "Then, the output should be:\n",
    "2:2\n",
    "3.:1\n",
    "3?:1\n",
    "New:1\n",
    "Python:5\n",
    "Read:1\n",
    "and:1\n",
    "between:1\n",
    "choosing:1\n",
    "or:2\n",
    "to:1"
   ]
  },
  {
   "cell_type": "code",
   "execution_count": 2,
   "id": "ec29efe7-3a03-4f35-a374-fb61d3c04c54",
   "metadata": {},
   "outputs": [
    {
     "data": {
      "text/plain": [
       "{'2': 2,\n",
       " '3.': 1,\n",
       " '3?': 1,\n",
       " 'New': 1,\n",
       " 'Python': 5,\n",
       " 'Read': 1,\n",
       " 'and': 1,\n",
       " 'between': 1,\n",
       " 'choosing': 1,\n",
       " 'or': 2,\n",
       " 'to': 1}"
      ]
     },
     "execution_count": 2,
     "metadata": {},
     "output_type": "execute_result"
    }
   ],
   "source": [
    "def sorted_freq_counter(s:str)->dict:\n",
    "    freq={}\n",
    "    s=sorted(s.split())\n",
    "    for i in range(len(s)):\n",
    "        if s[i] in freq:\n",
    "            freq[s[i]]+=1\n",
    "        else:\n",
    "            freq[s[i]]=1\n",
    "    return freq\n",
    "\n",
    "##Driver code\n",
    "s=\"New to Python or choosing between Python 2 and Python 3? Read Python 2 or Python 3.\"\n",
    "sorted_freq_counter(s)"
   ]
  },
  {
   "cell_type": "markdown",
   "id": "3fb72b96-dffe-4703-8481-f882a7edebd8",
   "metadata": {},
   "source": [
    "Question 3:Define a class Person and its two child classes: Male and Female. All classes have a method \"getGender\" which can print \"Male\" for Male class and \"Female\" for Female class."
   ]
  },
  {
   "cell_type": "code",
   "execution_count": 3,
   "id": "f9bc2e88-5c7b-4f94-ac07-cbe6ed38004d",
   "metadata": {},
   "outputs": [
    {
     "name": "stdout",
     "output_type": "stream",
     "text": [
      "Not defined\n",
      "Male\n",
      "Female\n"
     ]
    }
   ],
   "source": [
    "class Person:\n",
    "    def getGender(self):\n",
    "        return \"Not defined\"\n",
    "\n",
    "class Male(Person):\n",
    "    def getGender(self):\n",
    "        return \"Male\"\n",
    "\n",
    "class Female(Person):\n",
    "    def getGender(self):\n",
    "        return \"Female\"\n",
    "\n",
    "##Driver Code\n",
    "person=Person()\n",
    "male_person = Male()\n",
    "female_person = Female()\n",
    "\n",
    "print(person.getGender())\n",
    "print(male_person.getGender())  \n",
    "print(female_person.getGender()) "
   ]
  },
  {
   "cell_type": "markdown",
   "id": "e4a5b339-7134-412b-ab3e-c12ed91f0ba0",
   "metadata": {},
   "source": [
    "Question 4:Please write a program to generate all sentences where subject is in [\"I\", \"You\"] and verb is in [\"Play\", \"Love\"] and the object is in [\"Hockey\",\"Football\"]."
   ]
  },
  {
   "cell_type": "code",
   "execution_count": 4,
   "id": "ca2b63c3-ece5-4789-89d7-e42b3f2f00ab",
   "metadata": {},
   "outputs": [
    {
     "data": {
      "text/plain": [
       "['I play Hockey.',\n",
       " 'I play Football.',\n",
       " 'I love Hockey.',\n",
       " 'I love Football.',\n",
       " 'You play Hockey.',\n",
       " 'You play Football.',\n",
       " 'You love Hockey.',\n",
       " 'You love Football.']"
      ]
     },
     "execution_count": 4,
     "metadata": {},
     "output_type": "execute_result"
    }
   ],
   "source": [
    "def generate_sentences(subjects:list,verbs:list,objects:str)->list:\n",
    "    sentences=[]\n",
    "    for subject in subjects:\n",
    "        for verb in verbs:\n",
    "            for obj in objects:\n",
    "                sentence = f\"{subject} {verb.lower()} {obj}.\"\n",
    "                sentences.append(sentence)\n",
    "    return sentences\n",
    "\n",
    "##Driver Code\n",
    "subjects = [\"I\", \"You\"]\n",
    "verbs = [\"Play\", \"Love\"]\n",
    "objects = [\"Hockey\", \"Football\"]\n",
    "generate_sentences(subjects,verbs,objects)"
   ]
  },
  {
   "cell_type": "markdown",
   "id": "7c8c90ab-3019-420a-96cb-a36599ad7ede",
   "metadata": {},
   "source": [
    "Question 5:Please write a program to compress and decompress the string \"hello world!hello world!hello world!hello world!\"."
   ]
  },
  {
   "cell_type": "code",
   "execution_count": 5,
   "id": "3677d15d-ea81-4f84-851d-18dba317be3f",
   "metadata": {},
   "outputs": [
    {
     "name": "stdout",
     "output_type": "stream",
     "text": [
      "Original string: hello world!hello world!hello world!hello world!\n",
      "Compressed data: b'x\\x9c\\xcbH\\xcd\\xc9\\xc9W(\\xcf/\\xcaIQ\\xcc \\x82\\r\\x00\\xbd[\\x11\\xf5'\n",
      "Decompressed string: hello world!hello world!hello world!hello world!\n"
     ]
    }
   ],
   "source": [
    "import zlib\n",
    "\n",
    "def compress_string(input_string):\n",
    "    compressed_data = zlib.compress(input_string.encode(\"utf-8\"))\n",
    "    return compressed_data\n",
    "\n",
    "def decompress_string(compressed_data):\n",
    "    decompressed_string = zlib.decompress(compressed_data).decode(\"utf-8\")\n",
    "    return decompressed_string\n",
    "\n",
    "##Driver Code\n",
    "input_string = \"hello world!hello world!hello world!hello world!\"\n",
    "\n",
    "compressed_data = compress_string(input_string)\n",
    "decompressed_string = decompress_string(compressed_data)\n",
    "\n",
    "print(f\"Original string: {input_string}\")\n",
    "print(f\"Compressed data: {compressed_data}\")\n",
    "print(f\"Decompressed string: {decompressed_string}\")"
   ]
  },
  {
   "cell_type": "markdown",
   "id": "6f50541f-3dd9-41e4-b35f-196e866608b2",
   "metadata": {},
   "source": [
    "Question 6:Please write a binary search function which searches an item in a sorted list. The function should return the index of element to be searched in the list."
   ]
  },
  {
   "cell_type": "code",
   "execution_count": 6,
   "id": "2dcb0b9e-56a6-412a-bf7f-3cf260353cd7",
   "metadata": {},
   "outputs": [
    {
     "data": {
      "text/plain": [
       "2"
      ]
     },
     "execution_count": 6,
     "metadata": {},
     "output_type": "execute_result"
    }
   ],
   "source": [
    "def binary_search(arr:list, target:int)->int:\n",
    "    left, right = 0, len(arr) - 1\n",
    "\n",
    "    while left <= right:\n",
    "        mid = left + (right - left) // 2\n",
    "        \n",
    "        if arr[mid] == target:\n",
    "            return mid\n",
    "        elif arr[mid] < target:\n",
    "            left = mid + 1\n",
    "        else:\n",
    "            right = mid - 1\n",
    "            \n",
    "    return -1\n",
    "\n",
    "##Driver code\n",
    "array = [1, 3, 5, 7, 9]\n",
    "target=5\n",
    "binary_search(array,target)"
   ]
  },
  {
   "cell_type": "code",
   "execution_count": 7,
   "id": "df6ed789-3b52-4026-a9c3-0c97766094b9",
   "metadata": {},
   "outputs": [
    {
     "data": {
      "text/plain": [
       "-1"
      ]
     },
     "execution_count": 7,
     "metadata": {},
     "output_type": "execute_result"
    }
   ],
   "source": [
    "target=2\n",
    "binary_search(array,target)"
   ]
  },
  {
   "cell_type": "code",
   "execution_count": null,
   "id": "235b3069-282c-4a23-a331-fcbebf703597",
   "metadata": {},
   "outputs": [],
   "source": []
  }
 ],
 "metadata": {
  "kernelspec": {
   "display_name": "Python 3 (ipykernel)",
   "language": "python",
   "name": "python3"
  },
  "language_info": {
   "codemirror_mode": {
    "name": "ipython",
    "version": 3
   },
   "file_extension": ".py",
   "mimetype": "text/x-python",
   "name": "python",
   "nbconvert_exporter": "python",
   "pygments_lexer": "ipython3",
   "version": "3.8.17"
  }
 },
 "nbformat": 4,
 "nbformat_minor": 5
}

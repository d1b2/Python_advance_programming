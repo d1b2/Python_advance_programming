{
 "cells": [
  {
   "cell_type": "markdown",
   "id": "5e2cdf86-f432-4f31-98b1-4cccffb46605",
   "metadata": {},
   "source": [
    "Q1"
   ]
  },
  {
   "cell_type": "code",
   "execution_count": 1,
   "id": "a02b69b3-a8bb-42f7-8628-1d3067760421",
   "metadata": {},
   "outputs": [
    {
     "name": "stdout",
     "output_type": "stream",
     "text": [
      "[7, 3, 11]\n",
      "[10007, 1009]\n",
      "[1009, 3, 61, 1087, 1091, 1093, 1097]\n"
     ]
    }
   ],
   "source": [
    "def is_prime(n:int)->bool:\n",
    "    if n<=1:\n",
    "        return False\n",
    "    half=(n//2)+1\n",
    "    for i in range(half,1,-1):\n",
    "        if n%i==0:\n",
    "            return False\n",
    "    return True\n",
    "\n",
    "def filter_primes(nums:list)->list:\n",
    "    i=0\n",
    "    while i<len(nums):\n",
    "        if not is_prime(nums[i]):\n",
    "            nums.pop(i)\n",
    "        else:\n",
    "            i+=1\n",
    "    return nums\n",
    "\n",
    "##Driver Code\n",
    "print(filter_primes([7, 9, 3, 9, 10, 11, 27]))\n",
    "print(filter_primes([10007, 1009, 1007, 27, 147, 77, 1001, 70]))\n",
    "print(filter_primes([1009, 10, 10, 10, 3, 33, 9, 4, 1, 61, 63, 69, 1087, 1091, 1093, 1097]))"
   ]
  },
  {
   "cell_type": "markdown",
   "id": "2b68e21c-66f1-4656-b3f6-03aa2bd8136e",
   "metadata": {},
   "source": [
    "Q2"
   ]
  },
  {
   "cell_type": "code",
   "execution_count": 2,
   "id": "ee0c4410-27c2-4ef2-b37a-450fed87732d",
   "metadata": {},
   "outputs": [
    {
     "name": "stdout",
     "output_type": "stream",
     "text": [
      "[0, 1, 2, 3, 4, 3, 2, 1, 0]\n",
      "[0, 1, 2, 3, 2, 1, 0]\n",
      "[0, 1, 2, 1, 0]\n",
      "[0]\n"
     ]
    }
   ],
   "source": [
    "def b_pop(balloon:list)->list:\n",
    "    if len(balloon)==1:\n",
    "        return balloon\n",
    "    n=len(balloon)\n",
    "    half=n//2\n",
    "    cnt=balloon[half]-1\n",
    "    for i in range(1,half):\n",
    "        if cnt==0:\n",
    "            break\n",
    "        else:\n",
    "            balloon[half-i]=cnt\n",
    "            balloon[half+i]=cnt\n",
    "            cnt-=1\n",
    "    return balloon\n",
    "\n",
    "##Driver Code\n",
    "print(b_pop([0, 0, 0, 0, 4, 0, 0, 0, 0]))\n",
    "print(b_pop([0, 0, 0, 3, 0, 0, 0]))\n",
    "print(b_pop([0, 0, 2, 0, 0]))\n",
    "print(b_pop([0]))"
   ]
  },
  {
   "cell_type": "markdown",
   "id": "063a6778-6090-4fbe-9434-320026c5ba75",
   "metadata": {},
   "source": [
    " Q3"
   ]
  },
  {
   "cell_type": "code",
   "execution_count": 3,
   "id": "75d3d65b-c98f-4e28-adf7-61d6acc6fb30",
   "metadata": {},
   "outputs": [
    {
     "name": "stdout",
     "output_type": "stream",
     "text": [
      "Loves me,Loves me not,LOVES ME\n",
      "Loves me,Loves me not,Loves me,Loves me not,Loves me,LOVES ME NOT\n",
      "LOVES ME\n"
     ]
    }
   ],
   "source": [
    "def loves_me(n:int)->str:\n",
    "    loves=[]\n",
    "    for i in range(1,n+1):\n",
    "        if i%2!=0:\n",
    "            loves.append(\"Loves me\")\n",
    "        else:\n",
    "            loves.append(\"Loves me not\")\n",
    "    loves[-1]=loves[-1].upper()\n",
    "    \n",
    "    return \",\".join(loves)\n",
    "\n",
    "##Driver Code\n",
    "print(loves_me(3))\n",
    "print(loves_me(6))\n",
    "print(loves_me(1))"
   ]
  },
  {
   "cell_type": "markdown",
   "id": "bc2aec91-a9dc-4af3-9d74-779fd2c47161",
   "metadata": {},
   "source": [
    "Q4"
   ]
  },
  {
   "cell_type": "code",
   "execution_count": 4,
   "id": "eeaf3f8e-e177-405a-946a-6a91e539282c",
   "metadata": {},
   "outputs": [
    {
     "name": "stdout",
     "output_type": "stream",
     "text": [
      "['2344b', '932c', '832u32']\n",
      "['99a', '78b', 'c2345', '11d']\n",
      "['304q2', '5y5', '572z']\n",
      "[]\n"
     ]
    }
   ],
   "source": [
    "def get_key(s:str)->str:\n",
    "    for char in s:\n",
    "        if char.isalpha():\n",
    "            return char\n",
    "    return \"\"\n",
    "    \n",
    "def sort_by_letter(str1:list)->list:\n",
    "    return sorted(str1, key=get_key)\n",
    "\n",
    "\n",
    "print(sort_by_letter([\"932c\", \"832u32\", \"2344b\"]))\n",
    "print(sort_by_letter([\"99a\", \"78b\", \"c2345\", \"11d\"]))\n",
    "print(sort_by_letter([\"572z\", \"5y5\", \"304q2\"]))\n",
    "print(sort_by_letter([]))"
   ]
  },
  {
   "cell_type": "markdown",
   "id": "9fcfc181-ce27-40f6-ab4a-0ceee1466314",
   "metadata": {},
   "source": [
    "Q5"
   ]
  },
  {
   "cell_type": "code",
   "execution_count": 5,
   "id": "4e6915a8-a5ea-4dcd-886a-1bb42dd8d316",
   "metadata": {},
   "outputs": [
    {
     "data": {
      "text/plain": [
       "'C'"
      ]
     },
     "execution_count": 5,
     "metadata": {},
     "output_type": "execute_result"
    }
   ],
   "source": [
    "def cup_swapping(swaps:list)->str:\n",
    "    ball_position = \"B\"\n",
    "    \n",
    "    for swap in swaps:\n",
    "        if ball_position in swap:\n",
    "            ball_position = swap.replace(ball_position, \"\")\n",
    "    \n",
    "    return ball_position\n",
    "\n",
    "##Driver Code\n",
    "cup_swapping([\"AB\", \"CA\", \"AB\"])\n"
   ]
  },
  {
   "cell_type": "code",
   "execution_count": null,
   "id": "d93be6ed-6b80-4ce1-9991-75063066105f",
   "metadata": {},
   "outputs": [],
   "source": []
  }
 ],
 "metadata": {
  "kernelspec": {
   "display_name": "Python 3 (ipykernel)",
   "language": "python",
   "name": "python3"
  },
  "language_info": {
   "codemirror_mode": {
    "name": "ipython",
    "version": 3
   },
   "file_extension": ".py",
   "mimetype": "text/x-python",
   "name": "python",
   "nbconvert_exporter": "python",
   "pygments_lexer": "ipython3",
   "version": "3.8.17"
  }
 },
 "nbformat": 4,
 "nbformat_minor": 5
}

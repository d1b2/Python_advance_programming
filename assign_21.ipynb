{
 "cells": [
  {
   "cell_type": "markdown",
   "id": "900726ef-8e21-4c46-af05-6a1c81218073",
   "metadata": {},
   "source": [
    "Q1"
   ]
  },
  {
   "cell_type": "code",
   "execution_count": 1,
   "id": "e1c64ca3-6da2-474d-87a5-cdac7bbf4538",
   "metadata": {},
   "outputs": [
    {
     "name": "stdout",
     "output_type": "stream",
     "text": [
      "1\n",
      "0\n",
      "1\n"
     ]
    }
   ],
   "source": [
    "def count_same_ends(s:str)->int:\n",
    "    s=s.lower()\n",
    "    words = s.split()\n",
    "    cnt = 0\n",
    "    \n",
    "    for word in words:\n",
    "        cleaned_word = ''.join(filter(str.isalpha, word))\n",
    "        if len(cleaned_word)>1 and cleaned_word[0] == cleaned_word[-1]:\n",
    "            cnt += 1\n",
    "    \n",
    "    return cnt\n",
    "\n",
    "##Driver code\n",
    "print(count_same_ends(\"Pop! goes the balloon\")) \n",
    "print(count_same_ends(\"And the crowd goes wild!\"))  \n",
    "print(count_same_ends(\"No I am not in a gang.\"))  "
   ]
  },
  {
   "cell_type": "markdown",
   "id": "5d81617a-3861-4f9e-91e9-2ffeb970a57b",
   "metadata": {},
   "source": [
    "Q2"
   ]
  },
  {
   "cell_type": "code",
   "execution_count": 2,
   "id": "fe58240c-06f7-4dba-9910-c8e6febc7b70",
   "metadata": {},
   "outputs": [
    {
     "name": "stdout",
     "output_type": "stream",
     "text": [
      "zkkov\n",
      "Svool dliow!\n",
      "Xsirhgnzh rh gsv 25gs lu Wvxvnyvi\n"
     ]
    }
   ],
   "source": [
    "def atbash(text:str)->str:\n",
    "    result = \"\"\n",
    "    \n",
    "    for char in text:\n",
    "        if char.isalpha():\n",
    "            if char.isupper():\n",
    "                mirrored_char = chr(90 - (ord(char) - 65)) \n",
    "            else:\n",
    "                mirrored_char = chr(122 - (ord(char) - 97))  \n",
    "            result+=mirrored_char\n",
    "        else:\n",
    "            result+=char\n",
    "    \n",
    "    return result\n",
    "\n",
    "##Driver code\n",
    "print(atbash(\"apple\"))  \n",
    "print(atbash(\"Hello world!\")) \n",
    "print(atbash(\"Christmas is the 25th of December\")) "
   ]
  },
  {
   "cell_type": "markdown",
   "id": "18f106ac-7cec-47d0-8fd1-59b6deb16924",
   "metadata": {},
   "source": [
    "Q3"
   ]
  },
  {
   "cell_type": "code",
   "execution_count": 3,
   "id": "20d04284-bb3d-4958-9a37-fe4076aa8bfb",
   "metadata": {},
   "outputs": [
    {
     "name": "stdout",
     "output_type": "stream",
     "text": [
      "John\n",
      "Major\n",
      "178\n",
      "Italian\n"
     ]
    }
   ],
   "source": [
    "class Employee:\n",
    "    def __init__(self, full_name, **kwargs):\n",
    "        self.name, self.lastname = full_name.split()\n",
    "        for key, value in kwargs.items():\n",
    "            setattr(self, key, value)\n",
    "\n",
    "##class objects\n",
    "john = Employee(\"John Doe\")\n",
    "mary = Employee(\"Mary Major\", salary=120000)\n",
    "richard = Employee(\"Richard Roe\", salary=110000, height=178)\n",
    "giancarlo = Employee(\"Giancarlo Rossi\", salary=115000, height=182, nationality=\"Italian\")\n",
    "\n",
    "##Driver code\n",
    "print(john.name)  \n",
    "print(mary.lastname)  \n",
    "print(richard.height)  \n",
    "print(giancarlo.nationality)  "
   ]
  },
  {
   "cell_type": "markdown",
   "id": "419a9b7e-ef87-4376-83a1-b38c86bc655e",
   "metadata": {},
   "source": [
    "Q4"
   ]
  },
  {
   "cell_type": "code",
   "execution_count": 4,
   "id": "853aba04-ed21-47e3-9f03-ee90d910462d",
   "metadata": {},
   "outputs": [
    {
     "name": "stdout",
     "output_type": "stream",
     "text": [
      "True\n",
      "True\n",
      "False\n",
      "False\n"
     ]
    }
   ],
   "source": [
    "def can_see_stage(arr:list)->bool:\n",
    "    rows = len(arr)\n",
    "    cols = len(arr[0])\n",
    "    \n",
    "    for c in range(cols):\n",
    "        for r in range(1, rows):\n",
    "            if arr[r][c] <= arr[r - 1][c]:\n",
    "                return False\n",
    "    return True\n",
    "\n",
    "##Driver code\n",
    "print(can_see_stage([\n",
    "  [1, 2, 3],\n",
    "  [4, 5, 6],\n",
    "  [7, 8, 9]\n",
    "]))  \n",
    "\n",
    "print(can_see_stage([\n",
    "  [0, 0, 0],\n",
    "  [1, 1, 1],\n",
    "  [2, 2, 2]\n",
    "]))  \n",
    "\n",
    "print(can_see_stage([\n",
    "  [2, 0, 0], \n",
    "  [1, 1, 1], \n",
    "  [2, 2, 2]\n",
    "]))  \n",
    "\n",
    "print(can_see_stage([\n",
    "  [1, 0, 0],\n",
    "  [1, 1, 1],\n",
    "  [2, 2, 2]\n",
    "]))  "
   ]
  },
  {
   "cell_type": "markdown",
   "id": "cb321e59-176c-4266-8295-6c6ffa263ee3",
   "metadata": {},
   "source": [
    "Q5"
   ]
  },
  {
   "cell_type": "code",
   "execution_count": 5,
   "id": "c9e984bc-498f-4ef6-a9bb-233ac1add317",
   "metadata": {},
   "outputs": [
    {
     "name": "stdout",
     "output_type": "stream",
     "text": [
      "['bacon', 'parmesan', 'ham']\n",
      "['spinach', 'olives', 'mushroom']\n",
      "1\n",
      "2\n"
     ]
    }
   ],
   "source": [
    "class Pizza:\n",
    "    order_counter = 1\n",
    "    \n",
    "    def __init__(self, ingredients):\n",
    "        self.order_number = Pizza.order_counter\n",
    "        Pizza.order_counter += 1\n",
    "        self.ingredients = ingredients\n",
    "    \n",
    "    @classmethod\n",
    "    def hawaiian(cls):\n",
    "        return cls([\"ham\", \"pineapple\"])\n",
    "    \n",
    "    @classmethod\n",
    "    def meat_festival(cls):\n",
    "        return cls([\"beef\", \"meatball\", \"bacon\"])\n",
    "    \n",
    "    @classmethod\n",
    "    def garden_feast(cls):\n",
    "        return cls([\"spinach\", \"olives\", \"mushroom\"])\n",
    "\n",
    "##Driver code\n",
    "p1 = Pizza([\"bacon\", \"parmesan\", \"ham\"])  \n",
    "p2 = Pizza.garden_feast()               \n",
    "\n",
    "print(p1.ingredients)  \n",
    "print(p2.ingredients)  \n",
    "print(p1.order_number)  \n",
    "print(p2.order_number)"
   ]
  },
  {
   "cell_type": "code",
   "execution_count": null,
   "id": "0ed54f59-1bb4-4fed-944f-c2cd58cd8f7d",
   "metadata": {},
   "outputs": [],
   "source": []
  }
 ],
 "metadata": {
  "kernelspec": {
   "display_name": "Python 3 (ipykernel)",
   "language": "python",
   "name": "python3"
  },
  "language_info": {
   "codemirror_mode": {
    "name": "ipython",
    "version": 3
   },
   "file_extension": ".py",
   "mimetype": "text/x-python",
   "name": "python",
   "nbconvert_exporter": "python",
   "pygments_lexer": "ipython3",
   "version": "3.8.17"
  }
 },
 "nbformat": 4,
 "nbformat_minor": 5
}

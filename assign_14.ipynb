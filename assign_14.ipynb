{
 "cells": [
  {
   "cell_type": "markdown",
   "id": "51a3bea8-4708-47ec-97ea-53674a8d25dd",
   "metadata": {},
   "source": [
    "Q1"
   ]
  },
  {
   "cell_type": "code",
   "execution_count": 1,
   "id": "a7cc3d54-00d7-4e10-a176-4cd434dadb8a",
   "metadata": {},
   "outputs": [
    {
     "name": "stdout",
     "output_type": "stream",
     "text": [
      "[3.0, 3.0, 3.0]\n",
      "[12.0, 7.5, 14.5]\n",
      "[27.0, 75.0]\n"
     ]
    }
   ],
   "source": [
    "def show_the_love(nums:list)->list:\n",
    "    min_idx=nums.index(min(nums))\n",
    "    total=0\n",
    "    for i in range(len(nums)):\n",
    "        if i!=min_idx:\n",
    "            total+=0.25*nums[i]\n",
    "            nums[i]=0.75*nums[i]\n",
    "    nums[min_idx]+=total\n",
    "    return nums\n",
    "\n",
    "##Driver code\n",
    "print(show_the_love([4, 1, 4]))\n",
    "print(show_the_love([16, 10, 8]))\n",
    "print(show_the_love([2, 100]))"
   ]
  },
  {
   "cell_type": "markdown",
   "id": "9a8075cf-2e98-4424-9415-129338e1240b",
   "metadata": {},
   "source": [
    "Q2"
   ]
  },
  {
   "cell_type": "code",
   "execution_count": 2,
   "id": "5ce062d9-81ea-4a27-a5b6-a33b7c7ead0a",
   "metadata": {},
   "outputs": [
    {
     "name": "stdout",
     "output_type": "stream",
     "text": [
      "['aps', 'hr', 'o']\n",
      "['bdor', 'a', 'e']\n",
      "['enp', 'ahis', 'lov']\n",
      "['flu', 'ekr', 'y']\n",
      "['ahm', 'ct', '']\n"
     ]
    }
   ],
   "source": [
    "def letters(word1:str,word2:str)->list:\n",
    "    word1=set(word1)\n",
    "    word2=set(word2)\n",
    "     \n",
    "    intersection = \"\".join(sorted(word1 & word2))\n",
    "\n",
    "    c1=\"\".join(sorted(word1-word2))\n",
    "    \n",
    "    c2=\"\".join(sorted(word2-word1))\n",
    "    \n",
    "    return[intersection,c1,c2]\n",
    "\n",
    "##Driver Code\n",
    "print(letters(\"sharp\", \"soap\"))\n",
    "print(letters(\"board\", \"bored\"))\n",
    "print(letters(\"happiness\", \"envelope\")) \n",
    "print(letters(\"kerfuffle\", \"fluffy\"))\n",
    "print(letters(\"match\", \"ham\"))"
   ]
  },
  {
   "cell_type": "markdown",
   "id": "9a9acbc1-4248-478d-8367-7f43a59eb2a0",
   "metadata": {},
   "source": [
    "Q3"
   ]
  },
  {
   "cell_type": "code",
   "execution_count": 3,
   "id": "a8e17b17-50d9-46e3-b47f-f53917f69f89",
   "metadata": {},
   "outputs": [
    {
     "name": "stdout",
     "output_type": "stream",
     "text": [
      "[[1, 7], [2, 6], [3, 5], [4, 4]]\n",
      "[[1, 6], [2, 5], [3, 4]]\n",
      "[[5, 2], [9, 1], [8, 8]]\n",
      "[]\n"
     ]
    }
   ],
   "source": [
    "def pairs(nums:list)->list:\n",
    "    if len(nums)==0:\n",
    "        return []\n",
    "    n=len(nums)\n",
    "    \n",
    "    for i in range((n//2)+1):\n",
    "        nums[i]=[nums[i],nums[n-i-1]]\n",
    "    if n%2==0:\n",
    "        return nums[:n//2]\n",
    "    return nums[:(n//2)+1]\n",
    "\n",
    "##Driver Code\n",
    "print(pairs([1, 2, 3, 4, 5, 6, 7]))\n",
    "print(pairs([1, 2, 3, 4, 5, 6]))\n",
    "print(pairs([5, 9, 8, 1, 2]))\n",
    "print(pairs([]))"
   ]
  },
  {
   "cell_type": "markdown",
   "id": "16149c07-ec37-46e8-9bfb-10ee2041fa82",
   "metadata": {},
   "source": [
    "Q4"
   ]
  },
  {
   "cell_type": "code",
   "execution_count": 4,
   "id": "b6461b1b-f771-4aa3-a885-72dfa7a7d123",
   "metadata": {},
   "outputs": [
    {
     "name": "stdout",
     "output_type": "stream",
     "text": [
      "9\n",
      "-1\n",
      "1\n",
      "1874682736267235927391936562808774986\n"
     ]
    }
   ],
   "source": [
    "def add_str_nums(str1:str,str2:str)->str:\n",
    "    if (str1.isdigit() and not str2) or (str2.isdigit() and not str1):\n",
    "        return str1 or str2\n",
    "    elif not str1.isdigit() or not str2.isdigit():\n",
    "        return \"-1\"\n",
    "    return str(eval(f\"{str1}+{str2}\"))\n",
    "\n",
    "##Driver Code\n",
    "print(add_str_nums(\"4\", \"5\"))\n",
    "print(add_str_nums(\"abcdefg\", \"3\"))\n",
    "print(add_str_nums(\"1\", \"\"))\n",
    "print(add_str_nums(\"1874682736267235927359283579235789257\", \"32652983572985729\") )"
   ]
  },
  {
   "cell_type": "markdown",
   "id": "319eed16-a884-4191-b7a1-d9e0138ec845",
   "metadata": {},
   "source": [
    "Q5"
   ]
  },
  {
   "cell_type": "code",
   "execution_count": 5,
   "id": "61480f06-59ea-4572-b425-6bdebcab72ed",
   "metadata": {},
   "outputs": [
    {
     "name": "stdout",
     "output_type": "stream",
     "text": [
      "214365\n",
      "This is a mixed up string.\n",
      "abcde\n"
     ]
    }
   ],
   "source": [
    "def unmix(str1:str)->str:\n",
    "    str1=list(str1)\n",
    "    n=len(str1)\n",
    "    for i in range(0,n,2):\n",
    "        if i+1<n:\n",
    "            str1[i],str1[i+1]=str1[i+1],str1[i]\n",
    "    return \"\".join(str1)\n",
    "\n",
    "##Driver Code\n",
    "print(unmix(\"123456\"))\n",
    "print(unmix(\"hTsii  s aimex dpus rtni.g\"))\n",
    "print(unmix(\"badce\"))"
   ]
  },
  {
   "cell_type": "code",
   "execution_count": null,
   "id": "ef799117-d2b1-4108-95b5-1f06c6eaf552",
   "metadata": {},
   "outputs": [],
   "source": []
  }
 ],
 "metadata": {
  "kernelspec": {
   "display_name": "Python 3 (ipykernel)",
   "language": "python",
   "name": "python3"
  },
  "language_info": {
   "codemirror_mode": {
    "name": "ipython",
    "version": 3
   },
   "file_extension": ".py",
   "mimetype": "text/x-python",
   "name": "python",
   "nbconvert_exporter": "python",
   "pygments_lexer": "ipython3",
   "version": "3.8.17"
  }
 },
 "nbformat": 4,
 "nbformat_minor": 5
}

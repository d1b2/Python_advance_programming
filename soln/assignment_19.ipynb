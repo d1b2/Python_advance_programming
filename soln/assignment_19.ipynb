{
 "cells": [
  {
   "cell_type": "markdown",
   "id": "0946bf6f-2b4c-4f42-b699-dab8fec983b1",
   "metadata": {},
   "source": [
    "1. Make a class called Thing with no contents and print it. Then, create an object called example from this class and also print it. Are the printed values the same or different?ects do.\r\n"
   ]
  },
  {
   "cell_type": "code",
   "execution_count": 1,
   "id": "1ebed0e0-f0e1-4ec3-be6d-35d53165cb2e",
   "metadata": {},
   "outputs": [
    {
     "name": "stdout",
     "output_type": "stream",
     "text": [
      "Class : <class '__main__.Thing'>\n",
      "Object of class : <__main__.Thing object at 0x0000020B40CEBAC0>\n",
      "Both class and object values are same : False\n"
     ]
    }
   ],
   "source": [
    "class Thing():\n",
    "    pass\n",
    "\n",
    "print(f'Class : {Thing}')\n",
    "\n",
    "example=Thing()\n",
    "\n",
    "print(f'Object of class : {example}')\n",
    "\n",
    "print(f'Both class and object values are same : {example==Thing}')"
   ]
  },
  {
   "cell_type": "markdown",
   "id": "84761f89-5892-46e0-be18-dd19ea876e2d",
   "metadata": {},
   "source": [
    "2. Create a new class called Thing2 and add the value 'abc' to the letters class attribute. Letters should be printed."
   ]
  },
  {
   "cell_type": "code",
   "execution_count": 2,
   "id": "c7a62736-ef6d-4193-a950-8d67f155b6ee",
   "metadata": {},
   "outputs": [
    {
     "data": {
      "text/plain": [
       "'abc'"
      ]
     },
     "execution_count": 2,
     "metadata": {},
     "output_type": "execute_result"
    }
   ],
   "source": [
    "class Thing2():\n",
    "    letters=\"abc\"\n",
    "\n",
    "Thing2.letters"
   ]
  },
  {
   "cell_type": "markdown",
   "id": "9e02823f-3d3a-40b8-8b3e-9b42ac6d3ad5",
   "metadata": {},
   "source": [
    "3. Make yet another class called, of course, Thing3. This time, assign the value 'xyz' to an instance (object) attribute called letters. Print letters. Do you need to make an object from the class to do this?"
   ]
  },
  {
   "cell_type": "code",
   "execution_count": 3,
   "id": "16c61b48-d3a3-4511-9b1c-aca7d70775e9",
   "metadata": {},
   "outputs": [
    {
     "name": "stdout",
     "output_type": "stream",
     "text": [
      "You need to make an object from the class to do this.\n"
     ]
    },
    {
     "data": {
      "text/plain": [
       "'xyz'"
      ]
     },
     "execution_count": 3,
     "metadata": {},
     "output_type": "execute_result"
    }
   ],
   "source": [
    "class Thing3:\n",
    "    def __init__(self):\n",
    "        self.letters = 'xyz'\n",
    "try:\n",
    "    Thing3.letters\n",
    "except:\n",
    "    print('You need to make an object from the class to do this.')\n",
    "\n",
    "t_3 = Thing3()\n",
    "t_3.letters"
   ]
  },
  {
   "cell_type": "markdown",
   "id": "a417f1bf-1a14-40eb-8096-e413cadf2cd4",
   "metadata": {},
   "source": [
    "4. Create an Element class with the instance attributes name, symbol, and number. Create a class object with the values 'Hydrogen,' 'H,' and 1."
   ]
  },
  {
   "cell_type": "code",
   "execution_count": 4,
   "id": "0ecbedc9-b6e5-4699-ad22-6b07eb5663cb",
   "metadata": {},
   "outputs": [],
   "source": [
    "class Element:\n",
    "    def __init__(self, name, symbol, number):\n",
    "        self.name = name\n",
    "        self.symbol = symbol\n",
    "        self.number = number\n",
    "\n",
    "hydrogen = Element('Hydrogen', 'H', 1)\n"
   ]
  },
  {
   "cell_type": "markdown",
   "id": "21281686-4045-4de6-9e46-7dada0cb9709",
   "metadata": {},
   "source": [
    "5. Make a dictionary with these keys and values: 'name': 'Hydrogen', 'symbol': 'H', 'number': 1. Then, create an object called hydrogen from class Element using this dictionary."
   ]
  },
  {
   "cell_type": "code",
   "execution_count": 5,
   "id": "0bdb74e9-99f9-4029-ba2a-abe487ddc542",
   "metadata": {},
   "outputs": [],
   "source": [
    "h_dict = {'name': 'Hydrogen','symbol': 'H','number': 1}\n",
    "\n",
    "hydrogen=Element(**h_dict)"
   ]
  },
  {
   "cell_type": "markdown",
   "id": "69bd0102-f4b9-43b6-a28f-6f4ea7cb220b",
   "metadata": {},
   "source": [
    "6. For the Element class, define a method called dump() that prints the values of the object’s attributes (name, symbol, and number). Create the hydrogen object from this new definition and use dump() to print its attributes."
   ]
  },
  {
   "cell_type": "code",
   "execution_count": 6,
   "id": "4309e68d-0a56-4022-ab11-725c60b77b8f",
   "metadata": {},
   "outputs": [
    {
     "name": "stdout",
     "output_type": "stream",
     "text": [
      "Name:Hydrogen  Symbol:H  Number:1\n"
     ]
    }
   ],
   "source": [
    "class Element:\n",
    "    def __init__(self, name, symbol, number):\n",
    "        self.name = name\n",
    "        self.symbol = symbol\n",
    "        self.number = number\n",
    "    \n",
    "    def dump(self):\n",
    "        print(f\"Name:{self.name}  Symbol:{self.symbol}  Number:{self.number}\")\n",
    "        \n",
    "hydrogen = Element('Hydrogen', 'H', 1)\n",
    "hydrogen.dump()"
   ]
  },
  {
   "cell_type": "markdown",
   "id": "2fc88ec5-c3d4-480e-874f-1d25b772653a",
   "metadata": {},
   "source": [
    "7. Call print(hydrogen). In the definition of Element, change the name of method dump to __str__, create a new hydrogen object, and call print(hydrogen) again."
   ]
  },
  {
   "cell_type": "code",
   "execution_count": 7,
   "id": "95de7715-de1a-45c7-a2d0-d21e2a20a105",
   "metadata": {},
   "outputs": [
    {
     "name": "stdout",
     "output_type": "stream",
     "text": [
      "Name:Hydrogen  Symbol:H  Number:1\n"
     ]
    }
   ],
   "source": [
    "class Element:\n",
    "    def __init__(self, name, symbol, number):\n",
    "        self.name = name\n",
    "        self.symbol = symbol\n",
    "        self.number = number\n",
    "    \n",
    "    def __str__(self):\n",
    "        return f\"Name:{self.name}  Symbol:{self.symbol}  Number:{self.number}\"\n",
    "        \n",
    "hydrogen = Element('Hydrogen', 'H', 1)\n",
    "print(hydrogen)"
   ]
  },
  {
   "cell_type": "markdown",
   "id": "c1264bee-5024-4420-9d5e-59e3049fc8d1",
   "metadata": {},
   "source": [
    "8. Modify Element to make the attributes name, symbol, and number private. Define a getter property for each to return its value."
   ]
  },
  {
   "cell_type": "code",
   "execution_count": 8,
   "id": "7afd2c60-6065-4b50-8459-64854db17424",
   "metadata": {},
   "outputs": [
    {
     "name": "stdout",
     "output_type": "stream",
     "text": [
      "Name: Hydrogen\n",
      "Symbol: H\n",
      "Number: 1\n"
     ]
    }
   ],
   "source": [
    "class Element:\n",
    "    def __init__(self, name, symbol, number):\n",
    "        self.__name = name \n",
    "        self.__symbol = symbol\n",
    "        self.__number = number\n",
    "    \n",
    "    @property\n",
    "    def name(self):\n",
    "        return self.__name\n",
    "    \n",
    "    @property\n",
    "    def symbol(self):\n",
    "        return self.__symbol\n",
    "    \n",
    "    @property\n",
    "    def number(self):\n",
    "        return self.__number\n",
    "    \n",
    "    def __str__(self):\n",
    "        print(f\"Name:{self.__name}  Symbol:{self.__symbol}  Number:{self.__number}\")\n",
    "\n",
    "hydrogen = Element('Hydrogen', 'H', 1)\n",
    "\n",
    "\n",
    "print(f\"Name: {hydrogen.name}\")\n",
    "print(f\"Symbol: {hydrogen.symbol}\")\n",
    "print(f\"Number: {hydrogen.number}\")"
   ]
  },
  {
   "cell_type": "markdown",
   "id": "ddc6697e-947e-4f14-8056-2a799575ce6b",
   "metadata": {},
   "source": [
    "9. Define three classes: Bear, Rabbit, and Octothorpe. For each, define only one method: eats(). This should return 'berries' (Bear), 'clover' (Rabbit), or 'campers' (Octothorpe). Create one object from each and print what it eats."
   ]
  },
  {
   "cell_type": "code",
   "execution_count": 9,
   "id": "434d4344-ad36-4b4d-b5a6-0017d86f380f",
   "metadata": {},
   "outputs": [
    {
     "name": "stdout",
     "output_type": "stream",
     "text": [
      "Bear eats: berries\n",
      "Rabbit eats: clover\n",
      "Octothorpe eats: campers\n"
     ]
    }
   ],
   "source": [
    "class Bear:\n",
    "    def eats(self):\n",
    "        return 'berries'\n",
    "\n",
    "class Rabbit:\n",
    "    def eats(self):\n",
    "        return 'clover'\n",
    "\n",
    "class Octothorpe:\n",
    "    def eats(self):\n",
    "        return 'campers'\n",
    "\n",
    "\n",
    "bear = Bear()\n",
    "rabbit = Rabbit()\n",
    "octothorpe = Octothorpe()\n",
    "\n",
    "\n",
    "print(f\"Bear eats: {bear.eats()}\")\n",
    "print(f\"Rabbit eats: {rabbit.eats()}\")\n",
    "print(f\"Octothorpe eats: {octothorpe.eats()}\")"
   ]
  },
  {
   "cell_type": "markdown",
   "id": "69cfe8c3-31fa-4b30-8777-44cea1cd3039",
   "metadata": {},
   "source": [
    "10. Define these classes: Laser, Claw, and SmartPhone. Each has only one method: does(). This returns 'disintegrate' (Laser), 'crush' (Claw), or 'ring' (SmartPhone). Then, define the class Robot that has one instance (object) of each of these. Define a does() method for the Robot that prints what its component objects do."
   ]
  },
  {
   "cell_type": "code",
   "execution_count": 10,
   "id": "6a33266f-de9a-4ebc-b36e-8b8662b3ca38",
   "metadata": {},
   "outputs": [
    {
     "name": "stdout",
     "output_type": "stream",
     "text": [
      "Laser: disintegrate\n",
      "Claw: crush\n",
      "SmartPhone: ring\n"
     ]
    }
   ],
   "source": [
    "class Laser:\n",
    "    def does(self):\n",
    "        return 'disintegrate'\n",
    "\n",
    "class Claw:\n",
    "    def does(self):\n",
    "        return 'crush'\n",
    "\n",
    "class SmartPhone:\n",
    "    def does(self):\n",
    "        return 'ring'\n",
    "\n",
    "class Robot:\n",
    "    def __init__(self):\n",
    "        self.laser = Laser()\n",
    "        self.claw = Claw()\n",
    "        self.smartphone = SmartPhone()\n",
    "\n",
    "    def does(self):\n",
    "        print(f\"Laser: {self.laser.does()}\")\n",
    "        print(f\"Claw: {self.claw.does()}\")\n",
    "        print(f\"SmartPhone: {self.smartphone.does()}\")\n",
    "\n",
    "\n",
    "robot = Robot()\n",
    "robot.does()"
   ]
  }
 ],
 "metadata": {
  "kernelspec": {
   "display_name": "Python 3 (ipykernel)",
   "language": "python",
   "name": "python3"
  },
  "language_info": {
   "codemirror_mode": {
    "name": "ipython",
    "version": 3
   },
   "file_extension": ".py",
   "mimetype": "text/x-python",
   "name": "python",
   "nbconvert_exporter": "python",
   "pygments_lexer": "ipython3",
   "version": "3.8.17"
  }
 },
 "nbformat": 4,
 "nbformat_minor": 5
}

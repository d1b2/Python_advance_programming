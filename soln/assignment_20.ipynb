{
 "cells": [
  {
   "cell_type": "markdown",
   "id": "751ea006-3982-4bca-84e2-58c47b369c2c",
   "metadata": {},
   "source": [
    "1. Set the variable test1 to the string 'This is a test of the emergency text system,' and save test1 to a file named test.txt. and print it.\r\n"
   ]
  },
  {
   "cell_type": "code",
   "execution_count": 1,
   "id": "9da7fe82-6264-4a06-bc17-e7454d2c46c3",
   "metadata": {},
   "outputs": [],
   "source": [
    "test1 = 'This is a test of the emergency text system.'\n",
    "\n",
    "with open('test.txt', 'w') as file:\n",
    "    file.write(test1)"
   ]
  },
  {
   "cell_type": "markdown",
   "id": "d0ce0f9e-afc9-4589-8b7f-c8ae825f8802",
   "metadata": {},
   "source": [
    "2. Read the contents of the file test.txt into the variable test2. Is there a difference between test 1 and test 2?"
   ]
  },
  {
   "cell_type": "code",
   "execution_count": 2,
   "id": "0cec5214-51e3-4647-a777-1b0b4e6a376e",
   "metadata": {},
   "outputs": [
    {
     "name": "stdout",
     "output_type": "stream",
     "text": [
      "This is a test of the emergency text system.\n",
      "There is difference b/w test1 and test2 : False\n"
     ]
    }
   ],
   "source": [
    "test2=\"\"\n",
    "\n",
    "with open('test.txt', 'r') as file:\n",
    "    test2+=file.read()\n",
    "\n",
    "print(test2)\n",
    "\n",
    "print(f\"There is difference b/w test1 and test2 : {test1!=test2}\")"
   ]
  },
  {
   "cell_type": "markdown",
   "id": "46fc0be0-9330-4e7d-a13d-4fb47a5a0311",
   "metadata": {},
   "source": [
    "3. Create a CSV file called books.csv by using these lines:\r\n",
    "title,author,year\r\n",
    "The Weirdstone of Brisingamen,Alan Garner,1960\r\n",
    "Perdido Street Station,China Miéville,2000\r\n",
    "Thud!,Terry Pratchett,2005\r\n",
    "The Spellman Files,Lisa Lutz,2007\r\n",
    "Small Gods,Terry Pratchetnd print it.\r\n"
   ]
  },
  {
   "cell_type": "code",
   "execution_count": 3,
   "id": "16fe6a1e-cc8b-498c-a357-48bc644ed75d",
   "metadata": {},
   "outputs": [],
   "source": [
    "import csv\n",
    "\n",
    "data = [\n",
    "    [\"title\", \"author\", \"year\"],\n",
    "    [\"The Weirdstone of Brisingamen\", \"Alan Garner\", 1960],\n",
    "    [\"Perdido Street Station\", \"China Miéville\", 2000],\n",
    "    [\"Thud!\", \"Terry Pratchett\", 2005],\n",
    "    [\"The Spellman Files\", \"Lisa Lutz\", 2007],\n",
    "    [\"Small Gods\", \"Terry Pratchett\", 1992]\n",
    "]\n",
    "\n",
    "\n",
    "\n",
    "with open('books.csv', 'w',newline='') as file:\n",
    "    writer = csv.writer(file)\n",
    "    writer.writerows(data)"
   ]
  },
  {
   "cell_type": "markdown",
   "id": "c74f9044-32fd-4c3b-a874-5ce37a73f685",
   "metadata": {},
   "source": [
    "4. Use the sqlite3 module to create a SQLite database called books.db, and a table called books with these fields: title (text), author (text), and year (integer)."
   ]
  },
  {
   "cell_type": "code",
   "execution_count": 4,
   "id": "ef671733-e96b-48b4-8d05-d3a0356b8f0a",
   "metadata": {},
   "outputs": [],
   "source": [
    "import sqlite3\n",
    "\n",
    "conn = sqlite3.connect('books.db')\n",
    "\n",
    "\n",
    "cursor = conn.cursor()\n",
    "\n",
    "\n",
    "cursor.execute('''\n",
    "    CREATE TABLE IF NOT EXISTS books (\n",
    "        id INTEGER PRIMARY KEY,\n",
    "        title TEXT,\n",
    "        author TEXT,\n",
    "        year INTEGER\n",
    "    )\n",
    "''')\n",
    "\n",
    "\n",
    "conn.commit()\n",
    "conn.close()"
   ]
  },
  {
   "cell_type": "markdown",
   "id": "bf028257-6371-4b21-ad06-aedc9e999346",
   "metadata": {},
   "source": [
    "5. Read books.csv and insert its data into the book table."
   ]
  },
  {
   "cell_type": "code",
   "execution_count": 5,
   "id": "e95f165d-3103-4a6e-82b1-4cd5c7cecaea",
   "metadata": {},
   "outputs": [],
   "source": [
    "conn = sqlite3.connect('books.db')\n",
    "cursor = conn.cursor()\n",
    "\n",
    "\n",
    "with open('books.csv', 'r') as csv_file:\n",
    "    csv_reader = csv.reader(csv_file)\n",
    "    next(csv_reader)#skip headers\n",
    "    \n",
    "    for row in csv_reader:\n",
    "        title, author, year = row\n",
    "        cursor.execute('INSERT INTO books (title, author, year) VALUES (?, ?, ?)', (title, author, year))\n",
    "\n",
    "\n",
    "conn.commit()\n",
    "conn.close()"
   ]
  },
  {
   "cell_type": "markdown",
   "id": "d130c352-b2d7-48c8-89f8-f6e4a10d5bcd",
   "metadata": {},
   "source": [
    "6. Select and print the title column from the book table in alphabetical order."
   ]
  },
  {
   "cell_type": "code",
   "execution_count": 6,
   "id": "9285aeb1-6bf0-4eae-a37f-18f574dce0ae",
   "metadata": {},
   "outputs": [
    {
     "name": "stdout",
     "output_type": "stream",
     "text": [
      "Perdido Street Station\n",
      "Perdido Street Station\n",
      "Small Gods\n",
      "Small Gods\n",
      "The Spellman Files\n",
      "The Spellman Files\n",
      "The Weirdstone of Brisingamen\n",
      "The Weirdstone of Brisingamen\n",
      "Thud!\n",
      "Thud!\n"
     ]
    }
   ],
   "source": [
    "conn = sqlite3.connect('books.db')\n",
    "cursor = conn.cursor()\n",
    "cursor.execute('SELECT title FROM books ORDER BY title')\n",
    "titles = cursor.fetchall()\n",
    "\n",
    "for title in titles:\n",
    "    print(title[0])\n",
    "conn.close()\n"
   ]
  },
  {
   "cell_type": "markdown",
   "id": "2751038b-d19f-4934-98df-36e2b1a8e7c9",
   "metadata": {},
   "source": [
    "7. From the book table, select and print all columns in the order of publication.\n"
   ]
  },
  {
   "cell_type": "code",
   "execution_count": 7,
   "id": "b1b1997c-476b-45db-8fa9-b82f3421710f",
   "metadata": {},
   "outputs": [
    {
     "name": "stdout",
     "output_type": "stream",
     "text": [
      "(1, 'The Weirdstone of Brisingamen', 'Alan Garner', 1960)\n",
      "(6, 'The Weirdstone of Brisingamen', 'Alan Garner', 1960)\n",
      "(5, 'Small Gods', 'Terry Pratchett', 1992)\n",
      "(10, 'Small Gods', 'Terry Pratchett', 1992)\n",
      "(2, 'Perdido Street Station', 'China Miéville', 2000)\n",
      "(7, 'Perdido Street Station', 'China Miéville', 2000)\n",
      "(3, 'Thud!', 'Terry Pratchett', 2005)\n",
      "(8, 'Thud!', 'Terry Pratchett', 2005)\n",
      "(4, 'The Spellman Files', 'Lisa Lutz', 2007)\n",
      "(9, 'The Spellman Files', 'Lisa Lutz', 2007)\n"
     ]
    }
   ],
   "source": [
    "conn = sqlite3.connect('books.db')\n",
    "cursor = conn.cursor()\n",
    "cursor.execute('SELECT * FROM books ORDER BY year')\n",
    "records = cursor.fetchall()\n",
    "\n",
    "for record in records:\n",
    "    print(record)\n",
    "conn.close()"
   ]
  },
  {
   "cell_type": "markdown",
   "id": "dfa720dd-3016-42ae-9203-0b8ec7e81392",
   "metadata": {},
   "source": [
    "8. Use the sqlalchemy module to connect to the sqlite3 database books.db that you just made in exercise 6."
   ]
  },
  {
   "cell_type": "code",
   "execution_count": 8,
   "id": "1465d2b7-1b45-413f-b008-3f0740c4ba27",
   "metadata": {},
   "outputs": [
    {
     "name": "stdout",
     "output_type": "stream",
     "text": [
      "Title: The Weirdstone of Brisingamen, Author: Alan Garner, Year: 1960\n",
      "Title: Perdido Street Station, Author: China Miéville, Year: 2000\n",
      "Title: Thud!, Author: Terry Pratchett, Year: 2005\n",
      "Title: The Spellman Files, Author: Lisa Lutz, Year: 2007\n",
      "Title: Small Gods, Author: Terry Pratchett, Year: 1992\n",
      "Title: The Weirdstone of Brisingamen, Author: Alan Garner, Year: 1960\n",
      "Title: Perdido Street Station, Author: China Miéville, Year: 2000\n",
      "Title: Thud!, Author: Terry Pratchett, Year: 2005\n",
      "Title: The Spellman Files, Author: Lisa Lutz, Year: 2007\n",
      "Title: Small Gods, Author: Terry Pratchett, Year: 1992\n"
     ]
    },
    {
     "name": "stderr",
     "output_type": "stream",
     "text": [
      "C:\\Users\\arjun\\AppData\\Local\\Temp\\ipykernel_6936\\1719986415.py:6: MovedIn20Warning: The ``declarative_base()`` function is now available as sqlalchemy.orm.declarative_base(). (deprecated since: 2.0) (Background on SQLAlchemy 2.0 at: https://sqlalche.me/e/b8d9)\n",
      "  Base = declarative_base()\n"
     ]
    }
   ],
   "source": [
    "from sqlalchemy import create_engine, Column, Integer, String\n",
    "from sqlalchemy.ext.declarative import declarative_base\n",
    "from sqlalchemy.orm import sessionmaker\n",
    "\n",
    "\n",
    "Base = declarative_base()\n",
    "\n",
    "\n",
    "class Book(Base):\n",
    "    __tablename__ = 'books'\n",
    "    \n",
    "    id = Column(Integer, primary_key=True)\n",
    "    title = Column(String)\n",
    "    author = Column(String)\n",
    "    year = Column(Integer)\n",
    "\n",
    "\n",
    "db_url = 'sqlite:///books.db'\n",
    "engine = create_engine(db_url)\n",
    "\n",
    "\n",
    "Session = sessionmaker(bind=engine)\n",
    "session = Session()\n",
    "#query\n",
    "books = session.query(Book).all()\n",
    "\n",
    "for book in books:\n",
    "    print(f'Title: {book.title}, Author: {book.author}, Year: {book.year}')\n",
    "\n",
    "\n",
    "session.close()\n"
   ]
  },
  {
   "cell_type": "markdown",
   "id": "bad3fa18-99a9-4fec-b9b1-0c2d72034b9d",
   "metadata": {},
   "source": [
    "\n",
    "9. Install the Redis server and the Python redis library (pip install redis) on your computer. Create a Redis hash called test with the fields count (1) and name ('Fester Bestertester'). Print all the fields for test.\n"
   ]
  },
  {
   "cell_type": "code",
   "execution_count": 9,
   "id": "3916f835-447e-40f0-b4f2-e4a3b748b8b2",
   "metadata": {},
   "outputs": [
    {
     "name": "stdout",
     "output_type": "stream",
     "text": [
      "Requirement already satisfied: redis in c:\\users\\arjun\\miniconda3\\envs\\firstenv\\lib\\site-packages (5.0.0)\n",
      "Requirement already satisfied: async-timeout>=4.0.2 in c:\\users\\arjun\\miniconda3\\envs\\firstenv\\lib\\site-packages (from redis) (4.0.2)\n",
      "Note: you may need to restart the kernel to use updated packages.\n"
     ]
    }
   ],
   "source": [
    "pip install redis"
   ]
  },
  {
   "cell_type": "code",
   "execution_count": 10,
   "id": "9d94614f-1765-492a-b47d-9828263816ef",
   "metadata": {},
   "outputs": [
    {
     "name": "stdout",
     "output_type": "stream",
     "text": [
      "count: 1\n",
      "name: Fester Bestertester\n"
     ]
    }
   ],
   "source": [
    "import redis\n",
    "\n",
    "\n",
    "r = redis.Redis(host='localhost', port=6379, db=0)\n",
    "\n",
    "\n",
    "r.hset('test', 'count', 1)\n",
    "r.hset('test', 'name', 'Fester Bestertester')\n",
    "\n",
    "\n",
    "all_fields = r.hgetall('test')\n",
    "for field, value in all_fields.items():\n",
    "    print(f'{field.decode(\"utf-8\")}: {value.decode(\"utf-8\")}')"
   ]
  },
  {
   "cell_type": "markdown",
   "id": "f475cc1d-ef7d-48ff-b34f-1ddc772a022b",
   "metadata": {},
   "source": [
    "10. Increment the count field of test and print it."
   ]
  },
  {
   "cell_type": "code",
   "execution_count": 11,
   "id": "132d19fb-529a-4658-aae9-8e2c852c8c02",
   "metadata": {},
   "outputs": [
    {
     "name": "stdout",
     "output_type": "stream",
     "text": [
      "Incremented count: 2\n"
     ]
    }
   ],
   "source": [
    "incremented_count = r.hincrby('test', 'count', 1)\n",
    "\n",
    "# Print the incremented count\n",
    "print('Incremented count:', incremented_count)"
   ]
  },
  {
   "cell_type": "code",
   "execution_count": null,
   "id": "9ec49ce5-35ce-4d1f-8584-d5bcd9a86ce5",
   "metadata": {},
   "outputs": [],
   "source": []
  }
 ],
 "metadata": {
  "kernelspec": {
   "display_name": "Python 3 (ipykernel)",
   "language": "python",
   "name": "python3"
  },
  "language_info": {
   "codemirror_mode": {
    "name": "ipython",
    "version": 3
   },
   "file_extension": ".py",
   "mimetype": "text/x-python",
   "name": "python",
   "nbconvert_exporter": "python",
   "pygments_lexer": "ipython3",
   "version": "3.8.17"
  }
 },
 "nbformat": 4,
 "nbformat_minor": 5
}

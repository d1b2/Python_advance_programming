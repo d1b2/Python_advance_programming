{
 "cells": [
  {
   "cell_type": "markdown",
   "id": "29ae3013-9038-40f5-96d8-34d405eb62e3",
   "metadata": {},
   "source": [
    "1. Create a list called years_list, starting with the year of your birth, and each year thereafter until the year of your fifth birthday. For example, if you were born in 1980. the list would be years_list = [1980, 1981, 1982, 1983, 1984, 1985]."
   ]
  },
  {
   "cell_type": "code",
   "execution_count": 1,
   "id": "3a3c79e0-6d1e-4987-8021-850e76148af3",
   "metadata": {},
   "outputs": [
    {
     "name": "stdin",
     "output_type": "stream",
     "text": [
      "Enter your year of birth : 1980\n"
     ]
    },
    {
     "name": "stdout",
     "output_type": "stream",
     "text": [
      "[1980, 1981, 1982, 1983, 1984, 1985]\n"
     ]
    }
   ],
   "source": [
    "year_of_birth=int(input(\"Enter your year of birth :\"))\n",
    "years_list=[i for i in range(year_of_birth,year_of_birth+6)]\n",
    "print(years_list)"
   ]
  },
  {
   "cell_type": "markdown",
   "id": "d17224ef-913a-45f4-80df-1f3cbcdd5354",
   "metadata": {},
   "source": [
    "2. In which year in years_list was your third birthday? Remember, you were 0 years of age for your first year."
   ]
  },
  {
   "cell_type": "code",
   "execution_count": 2,
   "id": "5cf3f4be-87ef-4833-9cd9-bbd646e7ad26",
   "metadata": {},
   "outputs": [
    {
     "name": "stdout",
     "output_type": "stream",
     "text": [
      "Third birthday was in 1983\n"
     ]
    }
   ],
   "source": [
    "print(f'Third birthday was in {years_list[3]}')"
   ]
  },
  {
   "cell_type": "markdown",
   "id": "b9e21208-ca4d-4099-a204-fc5704ccf975",
   "metadata": {},
   "source": [
    "3. In the years list, which year were you the oldest?"
   ]
  },
  {
   "cell_type": "code",
   "execution_count": 3,
   "id": "8690691c-4671-49c1-b0ae-33a839cb9865",
   "metadata": {},
   "outputs": [
    {
     "name": "stdout",
     "output_type": "stream",
     "text": [
      "Oldest year 1985\n"
     ]
    }
   ],
   "source": [
    "print(f'Oldest year {years_list[-1]}')"
   ]
  },
  {
   "cell_type": "markdown",
   "id": "57288616-f60a-4b10-8106-6cd545710f52",
   "metadata": {},
   "source": [
    "4. Make a list called things with these three strings as elements: \"mozzarella\", \"cinderella\", \"salmonella\"\n"
   ]
  },
  {
   "cell_type": "code",
   "execution_count": 4,
   "id": "ac60b8c8-2183-4273-a8ec-3b4fe5251b69",
   "metadata": {},
   "outputs": [],
   "source": [
    "things = [\"mozzarella\", \"cinderella\", \"salmonella\"]"
   ]
  },
  {
   "cell_type": "markdown",
   "id": "10bde23f-56b5-41fe-a058-ce656610e383",
   "metadata": {},
   "source": [
    "5. Capitalize the element in things that refers to a person and then print the list. Did it change the element in the list?"
   ]
  },
  {
   "cell_type": "code",
   "execution_count": 5,
   "id": "392cc8a0-92be-4df7-b827-323ee7447681",
   "metadata": {},
   "outputs": [
    {
     "data": {
      "text/plain": [
       "['mozzarella', 'Cinderella', 'salmonella']"
      ]
     },
     "execution_count": 5,
     "metadata": {},
     "output_type": "execute_result"
    }
   ],
   "source": [
    "person=\"cinderella\"\n",
    "for i in range(len(things)):\n",
    "    if things[i]==person:\n",
    "        things[i]=things[i].title()\n",
    "things"
   ]
  },
  {
   "cell_type": "markdown",
   "id": "911318d1-32b1-4016-9a18-6e6d769cc427",
   "metadata": {},
   "source": [
    "6. Make a surprise list with the elements \"Groucho,\" \"Chico,\" and \"Harpo.\""
   ]
  },
  {
   "cell_type": "code",
   "execution_count": 6,
   "id": "930201cf-37c2-49f3-9475-0a4496ba86db",
   "metadata": {},
   "outputs": [],
   "source": [
    "surprise=[\"Groucho\",\"Chico\",\"Harpo\"]"
   ]
  },
  {
   "cell_type": "markdown",
   "id": "8540a7da-87d4-4771-a133-38ea117f3cfc",
   "metadata": {},
   "source": [
    "7. Lowercase the last element of the surprise list, reverse it, and then capitalize it."
   ]
  },
  {
   "cell_type": "code",
   "execution_count": 7,
   "id": "9069ef21-a1bb-4175-9f57-fdc571f6b066",
   "metadata": {},
   "outputs": [
    {
     "data": {
      "text/plain": [
       "['Groucho', 'Chico', 'Oprah']"
      ]
     },
     "execution_count": 7,
     "metadata": {},
     "output_type": "execute_result"
    }
   ],
   "source": [
    "surprise[-1]=surprise[-1].lower()[::-1].title()\n",
    "surprise"
   ]
  },
  {
   "cell_type": "markdown",
   "id": "f9511fce-7065-4751-bc75-bb6f55dbd396",
   "metadata": {},
   "source": [
    "8. Make an English-to-French dictionary called e2f and print it. Here are your starter words: dog is chien, cat is chat, and walrus is morse."
   ]
  },
  {
   "cell_type": "code",
   "execution_count": 8,
   "id": "38eeeecc-9cc8-4996-be5c-0b25ef984bcb",
   "metadata": {},
   "outputs": [],
   "source": [
    "e2f={}\n",
    "e2f['dog']='chien'\n",
    "e2f['cat']='chat'\n",
    "e2f['walrus']='morse'"
   ]
  },
  {
   "cell_type": "markdown",
   "id": "6af14627-7aa0-48ac-adb6-616294e1433b",
   "metadata": {},
   "source": [
    "9. Write the French word for walrus in your three-word dictionary e2f."
   ]
  },
  {
   "cell_type": "code",
   "execution_count": 9,
   "id": "1fa55fa1-f5aa-4a9f-9c21-1a03854f74d1",
   "metadata": {},
   "outputs": [
    {
     "name": "stdout",
     "output_type": "stream",
     "text": [
      "French word for walrus is : morse\n"
     ]
    }
   ],
   "source": [
    "print(f\"French word for walrus is : {e2f['walrus']}\")"
   ]
  },
  {
   "cell_type": "markdown",
   "id": "068a08d0-7702-4cea-b8e5-e6113644c937",
   "metadata": {},
   "source": [
    "10. Make a French-to-English dictionary called f2e from e2f. Use the items method."
   ]
  },
  {
   "cell_type": "code",
   "execution_count": 10,
   "id": "9b8fec54-619b-4e98-8d12-998c012c186a",
   "metadata": {},
   "outputs": [],
   "source": [
    "f2e={}\n",
    "for key,value in e2f.items():\n",
    "    f2e[value]=key"
   ]
  },
  {
   "cell_type": "markdown",
   "id": "dfea39b6-5aae-4044-9f13-4f0242a13ae2",
   "metadata": {},
   "source": [
    "11. Print the English version of the French word chien using f2e."
   ]
  },
  {
   "cell_type": "code",
   "execution_count": 11,
   "id": "d8ae734a-1cfa-432d-ad4f-d3a15f90fafb",
   "metadata": {},
   "outputs": [
    {
     "name": "stdout",
     "output_type": "stream",
     "text": [
      "English word for french word chien is : dog\n"
     ]
    }
   ],
   "source": [
    "print(f\"English word for french word chien is : {f2e['chien']}\")"
   ]
  },
  {
   "cell_type": "markdown",
   "id": "a40b2e98-cb0b-480a-8e54-da2d57b16d13",
   "metadata": {},
   "source": [
    "12. Make and print a set of English words from the keys in e2f."
   ]
  },
  {
   "cell_type": "code",
   "execution_count": 12,
   "id": "4bb09bbe-5185-405b-ad63-1d32696a8bf0",
   "metadata": {},
   "outputs": [
    {
     "data": {
      "text/plain": [
       "{'cat', 'dog', 'walrus'}"
      ]
     },
     "execution_count": 12,
     "metadata": {},
     "output_type": "execute_result"
    }
   ],
   "source": [
    "english_set=set()\n",
    "for i in e2f.keys():\n",
    "    english_set.add(i)\n",
    "english_set"
   ]
  },
  {
   "cell_type": "markdown",
   "id": "9e810b47-33b2-4160-90a6-f7347b9941ed",
   "metadata": {},
   "source": [
    "13. Make a multilevel dictionary called life. Use these strings for the topmost keys: 'animals', 'plants', and 'other'. Make the 'animals' key refer to another dictionary with the keys 'cats', 'octopi', and 'emus'. Make the 'cats' key refer to a list of strings with the values 'Henri', 'Grumpy', and 'Lucy'. Make all the other keys refer to empty dictionaries."
   ]
  },
  {
   "cell_type": "code",
   "execution_count": 13,
   "id": "66fec270-c114-4059-b34e-3e036c8d2a57",
   "metadata": {},
   "outputs": [
    {
     "data": {
      "text/plain": [
       "{'animals': {'cats': ['Henri', 'Grumpy', 'Lucy'], 'octopi': {}, 'emus': {}},\n",
       " 'plants': {},\n",
       " 'other': {}}"
      ]
     },
     "execution_count": 13,
     "metadata": {},
     "output_type": "execute_result"
    }
   ],
   "source": [
    "life={}\n",
    "for i in ['animals', 'plants', 'other']:\n",
    "    life[i]={}\n",
    "for i in ['cats', 'octopi', 'emus']:\n",
    "    life['animals'][i]={}\n",
    "life['animals']['cats']=['Henri', 'Grumpy', 'Lucy']\n",
    "\n",
    "life"
   ]
  },
  {
   "cell_type": "markdown",
   "id": "603eecde-da89-482a-b3db-587d91c7b311",
   "metadata": {},
   "source": [
    "14. Print the top-level keys of life."
   ]
  },
  {
   "cell_type": "code",
   "execution_count": 14,
   "id": "7cca45b8-2740-4d03-a64f-e870111ce957",
   "metadata": {},
   "outputs": [
    {
     "name": "stdout",
     "output_type": "stream",
     "text": [
      "Top level keys of life : ['animals', 'plants', 'other']\n"
     ]
    }
   ],
   "source": [
    "print(f'Top level keys of life : {list(life.keys())}')"
   ]
  },
  {
   "cell_type": "markdown",
   "id": "aca65e6d-fd23-474c-8466-bc498a44d3dc",
   "metadata": {},
   "source": [
    "15. Print the keys for life['animals']."
   ]
  },
  {
   "cell_type": "code",
   "execution_count": 15,
   "id": "395279a0-d592-41fe-843b-11079eb9967c",
   "metadata": {},
   "outputs": [
    {
     "name": "stdout",
     "output_type": "stream",
     "text": [
      "Keys for life['animals'] : ['cats', 'octopi', 'emus']\n"
     ]
    }
   ],
   "source": [
    "print(f\"Keys for life['animals'] : {list(life['animals'].keys())}\")"
   ]
  },
  {
   "cell_type": "markdown",
   "id": "c5ad4542-6612-45a9-9570-33c9ebab0459",
   "metadata": {},
   "source": [
    "16. Print the values for life['animals']['cats']"
   ]
  },
  {
   "cell_type": "code",
   "execution_count": 16,
   "id": "66a8d2ea-c64b-40e1-bce6-2448cb46dbde",
   "metadata": {},
   "outputs": [
    {
     "name": "stdout",
     "output_type": "stream",
     "text": [
      "Values for life['animals']['cats'] : ['Henri', 'Grumpy', 'Lucy']\n"
     ]
    }
   ],
   "source": [
    "print(f\"Values for life['animals']['cats'] : {life['animals']['cats']}\")"
   ]
  },
  {
   "cell_type": "code",
   "execution_count": null,
   "id": "d3223543-5982-4a1e-a032-041094f215ef",
   "metadata": {},
   "outputs": [],
   "source": []
  }
 ],
 "metadata": {
  "kernelspec": {
   "display_name": "Python 3 (ipykernel)",
   "language": "python",
   "name": "python3"
  },
  "language_info": {
   "codemirror_mode": {
    "name": "ipython",
    "version": 3
   },
   "file_extension": ".py",
   "mimetype": "text/x-python",
   "name": "python",
   "nbconvert_exporter": "python",
   "pygments_lexer": "ipython3",
   "version": "3.8.17"
  }
 },
 "nbformat": 4,
 "nbformat_minor": 5
}

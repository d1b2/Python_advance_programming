{
 "cells": [
  {
   "cell_type": "markdown",
   "id": "0e747a53-b572-4518-af98-e3b7e7377014",
   "metadata": {},
   "source": [
    "1. Assign the value 7 to the variable guess_me. Then, write the conditional tests (if, else, and elif) to print the string 'too low' if guess_me is less than 7, 'too high' if greater than 7, and 'just right' if equal to 7.\n",
    "2. Assign the value 7 to the variable guess_me and the value 1 to the variable start. Write a while loop that compares start with guess_me. Print too low if start is less than guess me. If start equals guess_me, print 'found it!' and exit the loop. If start is greater than guess_me, print 'oops' and exit the loop. Increment start at the end of the loop.\n",
    "3. Print the following values of the list [3, 2, 1, 0] using a for loop.\n",
    "4. Use a list comprehension to make a list of the even numbers in range(10)\n",
    "5. Use a dictionary comprehension to create the dictionary squares. Use range(10) to return the keys, and use the square of each key as its value.\n",
    "\n",
    "\n",
    "\n",
    "\n",
    "\n",
    "\n"
   ]
  },
  {
   "cell_type": "code",
   "execution_count": 4,
   "id": "d277f853-0c83-4aef-833e-b3180f89b783",
   "metadata": {},
   "outputs": [
    {
     "name": "stdout",
     "output_type": "stream",
     "text": [
      "String lenght of string : abc is : too low\n",
      "String lenght of string : abcdefgh is : too high\n",
      "String lenght of string : abcdefg is : just right\n"
     ]
    }
   ],
   "source": [
    "guess_me=7\n",
    "\n",
    "def str_len(s1):\n",
    "    if len(s1)<guess_me:\n",
    "        print('too low')\n",
    "    elif len(s1)>guess_me:\n",
    "        print('too high')\n",
    "    else:\n",
    "        print('just right')\n",
    "\n",
    "###Driver code\n",
    "print(\"String lenght of string : abc is :\",end=' ')\n",
    "str_len('abc')\n",
    "print(\"String lenght of string : abcdefgh is :\",end=' ')\n",
    "str_len('abcdefgh')\n",
    "print(\"String lenght of string : abcdefg is :\",end=' ')\n",
    "str_len('abcdefg')"
   ]
  },
  {
   "cell_type": "markdown",
   "id": "c3d7c6cb-d62f-474e-8015-953dd3d9c047",
   "metadata": {},
   "source": []
  },
  {
   "cell_type": "code",
   "execution_count": 8,
   "id": "92cf4e90-702e-4113-b22d-4ac9b50770f7",
   "metadata": {},
   "outputs": [
    {
     "name": "stdout",
     "output_type": "stream",
     "text": [
      "Scenario 1 start < guess_me\n",
      "too low\n",
      "too low\n",
      "too low\n",
      "too low\n",
      "too low\n",
      "too low\n",
      "found it!\n",
      "\n",
      " Scenario 2 start = guess_me\n",
      "found it!\n",
      "\n",
      " Scenario 3 start > guess_me\n",
      "oops\n"
     ]
    }
   ],
   "source": [
    "def found(guess_me=7,start=1):\n",
    "    while True:\n",
    "        if start<guess_me:\n",
    "            print('too low')\n",
    "        elif start==guess_me:\n",
    "            print('found it!')\n",
    "            break\n",
    "        else:\n",
    "            print('oops')\n",
    "            break\n",
    "        start+=1\n",
    "\n",
    "###Driver code\n",
    "print('Scenario 1 start < guess_me')\n",
    "found(guess_me=7,start=1)\n",
    "print('\\n Scenario 2 start = guess_me')\n",
    "found(guess_me=7,start=7)\n",
    "print('\\n Scenario 3 start > guess_me')\n",
    "found(guess_me=7,start=8)"
   ]
  },
  {
   "cell_type": "markdown",
   "id": "e4bb90eb-9c38-4f3d-ac41-2706ed6a6a04",
   "metadata": {},
   "source": []
  },
  {
   "cell_type": "code",
   "execution_count": 10,
   "id": "697fb22f-a69c-4fe7-836d-ccb8a215986a",
   "metadata": {},
   "outputs": [
    {
     "name": "stdout",
     "output_type": "stream",
     "text": [
      "3\n",
      "2\n",
      "1\n",
      "Complete list : [3, 2, 1]\n"
     ]
    }
   ],
   "source": [
    "sample_list=[]\n",
    "\n",
    "for i in range(3,0,-1):\n",
    "    sample_list.append(i)\n",
    "    print(i)\n",
    "\n",
    "print(f'Complete list : {sample_list}')"
   ]
  },
  {
   "cell_type": "markdown",
   "id": "744e6dbb-b36b-4b01-907e-791bfaa76ef2",
   "metadata": {},
   "source": []
  },
  {
   "cell_type": "code",
   "execution_count": 11,
   "id": "67a2753e-25c9-446a-918b-f1d75dd1e686",
   "metadata": {},
   "outputs": [
    {
     "data": {
      "text/plain": [
       "[0, 2, 4, 6, 8]"
      ]
     },
     "execution_count": 11,
     "metadata": {},
     "output_type": "execute_result"
    }
   ],
   "source": [
    "even=[i for i in range(10) if i%2==0]\n",
    "even"
   ]
  },
  {
   "cell_type": "markdown",
   "id": "20357fdf-31cb-480c-a7db-e5a1da8a7cce",
   "metadata": {},
   "source": []
  },
  {
   "cell_type": "code",
   "execution_count": 20,
   "id": "c587ee22-38a5-49fc-8fa8-c5baa97c19d2",
   "metadata": {},
   "outputs": [
    {
     "name": "stdout",
     "output_type": "stream",
     "text": [
      "Dictionary : {0: 0, 1: 1, 2: 4, 3: 9, 4: 16, 5: 25, 6: 36, 7: 49, 8: 64, 9: 81}\n"
     ]
    }
   ],
   "source": [
    "squares={i:i*i for i in range(10)}\n",
    "print(f'Dictionary : {squares}')"
   ]
  },
  {
   "cell_type": "markdown",
   "id": "1a20add2-33bc-4ae6-9d56-76d3d658723d",
   "metadata": {},
   "source": [
    "6. Construct the set odd from the odd numbers in the range using a set comprehension (10)."
   ]
  },
  {
   "cell_type": "code",
   "execution_count": 21,
   "id": "0c9306e5-0b0f-42b3-909a-0c8d943c6544",
   "metadata": {},
   "outputs": [
    {
     "name": "stdout",
     "output_type": "stream",
     "text": [
      "Set : {1, 3, 5, 7, 9}\n"
     ]
    }
   ],
   "source": [
    "odd={i for i in range(10) if i%2!=0}\n",
    "print(f'Set : {odd}')"
   ]
  },
  {
   "cell_type": "markdown",
   "id": "62cc934b-8aed-4058-9e99-15fc2adfd0d3",
   "metadata": {},
   "source": [
    "7. Use a generator comprehension to return the string 'Got ' and a number for the numbers in range(10). Iterate through this by using a for loop."
   ]
  },
  {
   "cell_type": "code",
   "execution_count": 26,
   "id": "01422ecd-f8c5-4a03-9a8d-7b68490b08d6",
   "metadata": {},
   "outputs": [
    {
     "name": "stdout",
     "output_type": "stream",
     "text": [
      "Got 0\n",
      "Got 1\n",
      "Got 2\n",
      "Got 3\n",
      "Got 4\n",
      "Got 5\n",
      "Got 6\n",
      "Got 7\n",
      "Got 8\n",
      "Got 9\n"
     ]
    }
   ],
   "source": [
    "gen=(f'Got {i}' for i in range(10))\n",
    "\n",
    "for i in gen:\n",
    "    print(i)"
   ]
  },
  {
   "cell_type": "markdown",
   "id": "42beee0a-9669-4170-8882-164582dd7f41",
   "metadata": {},
   "source": [
    "8. Define a function called good that returns the list ['Harry', 'Ron', 'Hermione']."
   ]
  },
  {
   "cell_type": "code",
   "execution_count": 27,
   "id": "4f753b34-265f-43a2-8d2e-bbe8873052f6",
   "metadata": {},
   "outputs": [
    {
     "data": {
      "text/plain": [
       "['Harry', 'Ron', 'Hermione']"
      ]
     },
     "execution_count": 27,
     "metadata": {},
     "output_type": "execute_result"
    }
   ],
   "source": [
    "def good():\n",
    "    return ['Harry', 'Ron', 'Hermione']\n",
    "\n",
    "## call to function\n",
    "good()"
   ]
  },
  {
   "cell_type": "markdown",
   "id": "2f574557-8133-484d-9f98-5129f223ca0a",
   "metadata": {},
   "source": [
    "9. Define a generator function called get_odds that returns the odd numbers from range(10). Use a for loop to find and print the third value returned."
   ]
  },
  {
   "cell_type": "code",
   "execution_count": 31,
   "id": "82e116dd-1475-4263-8362-14ef4b4b7afd",
   "metadata": {},
   "outputs": [
    {
     "name": "stdout",
     "output_type": "stream",
     "text": [
      "5\n"
     ]
    }
   ],
   "source": [
    "def get_odds():\n",
    "    for i in range(10):\n",
    "        if i%2!=0:\n",
    "            yield i\n",
    "            \n",
    "## call to generator\n",
    "gen = get_odds()\n",
    "\n",
    "for i,value in enumerate(gen):\n",
    "    if i==2:\n",
    "        print(f'Third value returned : {value}')"
   ]
  },
  {
   "cell_type": "markdown",
   "id": "8d065a76-63c9-4e46-a2c0-e4d0546ada02",
   "metadata": {},
   "source": [
    "10. Define an exception called OopsException. Raise this exception to see what happens. Then write the code to catch this exception and print 'Caught an oops'."
   ]
  },
  {
   "cell_type": "code",
   "execution_count": 34,
   "id": "1d10de93-76ee-4692-974e-15f9ebaeef48",
   "metadata": {},
   "outputs": [
    {
     "ename": "OopsException",
     "evalue": "",
     "output_type": "error",
     "traceback": [
      "\u001b[1;31m---------------------------------------------------------------------------\u001b[0m",
      "\u001b[1;31mOopsException\u001b[0m                             Traceback (most recent call last)",
      "Cell \u001b[1;32mIn[34], line 4\u001b[0m\n\u001b[0;32m      1\u001b[0m \u001b[38;5;28;01mclass\u001b[39;00m \u001b[38;5;21;01mOopsException\u001b[39;00m(\u001b[38;5;167;01mException\u001b[39;00m):\n\u001b[0;32m      2\u001b[0m     \u001b[38;5;28;01mpass\u001b[39;00m\n\u001b[1;32m----> 4\u001b[0m \u001b[38;5;28;01mraise\u001b[39;00m OopsException\n",
      "\u001b[1;31mOopsException\u001b[0m: "
     ]
    }
   ],
   "source": [
    "class OopsException(Exception):\n",
    "    pass\n",
    "    \n",
    "raise OopsException"
   ]
  },
  {
   "cell_type": "code",
   "execution_count": 35,
   "id": "724d2a97-c4ed-4aeb-a4a1-91b912e5bfe3",
   "metadata": {},
   "outputs": [
    {
     "name": "stdout",
     "output_type": "stream",
     "text": [
      "Caught an oops\n"
     ]
    }
   ],
   "source": [
    "try:\n",
    "    raise OopsException(\"Something went wrong!\")\n",
    "except OopsException:\n",
    "    print(\"Caught an oops\")"
   ]
  },
  {
   "cell_type": "markdown",
   "id": "68bdd1d8-f79e-4bad-a38c-8482c3ae68a5",
   "metadata": {},
   "source": [
    "11. Use zip() to make a dictionary called movies that pairs these lists: titles = ['Creature of Habit', 'Crewel Fate'] and plots = ['A nun turns into a monster', 'A haunted yarn shop']."
   ]
  },
  {
   "cell_type": "code",
   "execution_count": 36,
   "id": "f3444430-d417-4281-91f2-db7096a31c8b",
   "metadata": {},
   "outputs": [
    {
     "data": {
      "text/plain": [
       "{'Creature of Habit': 'A nun turns into a monster',\n",
       " 'Crewel Fate': 'A haunted yarn shop'}"
      ]
     },
     "execution_count": 36,
     "metadata": {},
     "output_type": "execute_result"
    }
   ],
   "source": [
    "titles = ['Creature of Habit', 'Crewel Fate']\n",
    "plots = ['A nun turns into a monster', 'A haunted yarn shop']\n",
    "movies ={i:j for i,j in zip(titles,plots)}\n",
    "movies"
   ]
  },
  {
   "cell_type": "code",
   "execution_count": null,
   "id": "f926a96a-5a85-41ec-9dc9-9274dbc55357",
   "metadata": {},
   "outputs": [],
   "source": []
  }
 ],
 "metadata": {
  "kernelspec": {
   "display_name": "Python 3 (ipykernel)",
   "language": "python",
   "name": "python3"
  },
  "language_info": {
   "codemirror_mode": {
    "name": "ipython",
    "version": 3
   },
   "file_extension": ".py",
   "mimetype": "text/x-python",
   "name": "python",
   "nbconvert_exporter": "python",
   "pygments_lexer": "ipython3",
   "version": "3.8.17"
  }
 },
 "nbformat": 4,
 "nbformat_minor": 5
}

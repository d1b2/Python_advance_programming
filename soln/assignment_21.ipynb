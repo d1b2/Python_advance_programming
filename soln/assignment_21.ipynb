{
 "cells": [
  {
   "cell_type": "markdown",
   "id": "a31e3b11-659d-4497-804e-c46001cd0317",
   "metadata": {},
   "source": [
    "1. Add the current date to the text file today.txt as a string."
   ]
  },
  {
   "cell_type": "code",
   "execution_count": 1,
   "id": "4e9d5f2d-61b0-4358-8508-7f3d0213cca2",
   "metadata": {},
   "outputs": [],
   "source": [
    "from datetime import datetime\n",
    "\n",
    "current_date = datetime.now().strftime(\"%Y-%m-%d %H:%M:%S\")\n",
    "\n",
    "with open(\"today.txt\", \"w\") as file:\n",
    "    file.write(current_date)"
   ]
  },
  {
   "cell_type": "markdown",
   "id": "d1a29b21-1ff4-4ce2-bed4-2a535f9243bd",
   "metadata": {},
   "source": [
    "2. Read the text file today.txt into the string today_string"
   ]
  },
  {
   "cell_type": "code",
   "execution_count": 2,
   "id": "1ab01355-94a6-4da4-9633-fc436ef9c6de",
   "metadata": {},
   "outputs": [
    {
     "data": {
      "text/plain": [
       "'2023-01-23 14:19:23'"
      ]
     },
     "execution_count": 2,
     "metadata": {},
     "output_type": "execute_result"
    }
   ],
   "source": [
    "today_string=\"\"\n",
    "\n",
    "with open(\"today.txt\", \"r\") as file:\n",
    "    today_string+= file.read()\n",
    "    \n",
    "today_string"
   ]
  },
  {
   "cell_type": "markdown",
   "id": "48fe1040-643e-48da-8bb7-78e708b61d3c",
   "metadata": {},
   "source": [
    "3. Parse the date from today_string."
   ]
  },
  {
   "cell_type": "code",
   "execution_count": 3,
   "id": "134516ba-4850-4079-a3f4-2574139f477d",
   "metadata": {},
   "outputs": [
    {
     "data": {
      "text/plain": [
       "datetime.datetime(2023, 1, 23, 14, 19, 23)"
      ]
     },
     "execution_count": 3,
     "metadata": {},
     "output_type": "execute_result"
    }
   ],
   "source": [
    "date_format = \"%Y-%m-%d %H:%M:%S\"\n",
    "parsed_date = datetime.strptime(today_string, date_format)\n",
    "\n",
    "parsed_date"
   ]
  },
  {
   "cell_type": "markdown",
   "id": "7991af10-7076-408f-8c8a-df092fa068cd",
   "metadata": {},
   "source": [
    "4. List the files in your current directory"
   ]
  },
  {
   "cell_type": "code",
   "execution_count": 4,
   "id": "6859326f-cbaf-4ac0-b8cd-f0d4d548007e",
   "metadata": {},
   "outputs": [
    {
     "name": "stdout",
     "output_type": "stream",
     "text": [
      ".ipynb_checkpoints\n",
      "assignment_15.ipynb\n",
      "assignment_16.ipynb\n",
      "assignment_17.ipynb\n",
      "assignment_18.ipynb\n",
      "assignment_19.ipynb\n",
      "assignment_20.ipynb\n",
      "books.csv\n",
      "books.db\n",
      "modified.jpg\n",
      "multi_processing.py\n",
      "sample_image.jpg\n",
      "sample_pdf.pdf\n",
      "test.txt\n",
      "today.txt\n",
      "Untitled.ipynb\n",
      "Untitled1.ipynb\n",
      "zoo.py\n",
      "__pycache__\n"
     ]
    }
   ],
   "source": [
    "import os\n",
    "current_directory = os.getcwd()\n",
    "\n",
    "for file in os.listdir(current_directory):\n",
    "    print(file)"
   ]
  },
  {
   "cell_type": "markdown",
   "id": "ed7c7e44-59ef-41a0-b793-efb7355197b7",
   "metadata": {},
   "source": [
    "5. Create a list of all of the files in your parent directory (minimum five files should be available)."
   ]
  },
  {
   "cell_type": "code",
   "execution_count": 5,
   "id": "134d8547-1067-44a0-8f21-54e96b92e440",
   "metadata": {},
   "outputs": [
    {
     "name": "stdout",
     "output_type": "stream",
     "text": [
      "11_jan_23.ipynb\n",
      "14_jan_23_practice.ipynb\n",
      "16_jan_23.ipynb\n",
      "17_jan_23.ipynb\n",
      "4_jan_23_practice.ipynb\n",
      "first.csv\n",
      "redis-7.2.0.tar.gz\n",
      "sample.py\n",
      "trial1.ipynb\n",
      "Untitled.ipynb\n"
     ]
    }
   ],
   "source": [
    "\n",
    "parent_directory = os.path.abspath(os.path.join(os.getcwd(), os.pardir))\n",
    "\n",
    "# List all files in the parent directory\n",
    "files_in_parent_directory = os.listdir(parent_directory)\n",
    "\n",
    "files_only = [file for file in files_in_parent_directory if os.path.isfile(os.path.join(parent_directory, file))]\n",
    "\n",
    "# Print the list of files\n",
    "for file in files_only:\n",
    "    print(file)\n"
   ]
  },
  {
   "cell_type": "markdown",
   "id": "79286477-e5c0-4805-95da-31a3f62eea22",
   "metadata": {},
   "source": [
    "6. Use multiprocessing to create three separate processes. Make each one wait a random number of seconds between one and five, print the current time, and then exit."
   ]
  },
  {
   "cell_type": "code",
   "execution_count": 6,
   "id": "afa67350-e509-4e44-b473-02c2e181ca8b",
   "metadata": {},
   "outputs": [
    {
     "name": "stdout",
     "output_type": "stream",
     "text": [
      "All processes have finished.\n"
     ]
    }
   ],
   "source": [
    "import multiprocessing\n",
    "import random\n",
    "import time\n",
    "\n",
    "\n",
    "def process_function():\n",
    "    wait_time = random.randint(1, 5)\n",
    "    time.sleep(wait_time)\n",
    "    current_time = datetime.now().strftime(\"%Y-%m-%d %H:%M:%S\")\n",
    "    print(f\"Process {multiprocessing.current_process().name} waited for {wait_time} seconds and finished at {current_time}\")\n",
    "\n",
    "if __name__ == \"__main__\":\n",
    "    processes = []\n",
    "\n",
    "    for i in range(3):\n",
    "        process = multiprocessing.Process(target=process_function)\n",
    "        processes.append(process)\n",
    "        process.start()\n",
    "\n",
    "    # Wait for all processes to complete\n",
    "    for process in processes:\n",
    "        process.join()\n",
    "\n",
    "    print(\"All processes have finished.\")"
   ]
  },
  {
   "cell_type": "markdown",
   "id": "77acac42-2f89-426a-a75a-b53b1ddd0b49",
   "metadata": {},
   "source": [
    "7. Create a date object of your day of birth."
   ]
  },
  {
   "cell_type": "code",
   "execution_count": 7,
   "id": "a748f2ab-1ec5-4e90-8901-80e1cd5ed4aa",
   "metadata": {},
   "outputs": [],
   "source": [
    "from datetime import date\n",
    "\n",
    "birth_date = date(1947,8,15)"
   ]
  },
  {
   "cell_type": "markdown",
   "id": "d49f732b-bd74-4de3-a316-cae15881ebd9",
   "metadata": {},
   "source": [
    "8. What day of the week was your day of birth?"
   ]
  },
  {
   "cell_type": "code",
   "execution_count": 8,
   "id": "b9ddddfa-11a2-4ec3-9cfe-b6b24b0dddd2",
   "metadata": {},
   "outputs": [
    {
     "data": {
      "text/plain": [
       "'Friday'"
      ]
     },
     "execution_count": 8,
     "metadata": {},
     "output_type": "execute_result"
    }
   ],
   "source": [
    "day_of_week = birth_date.strftime(\"%A\")\n",
    "day_of_week"
   ]
  },
  {
   "cell_type": "markdown",
   "id": "4293abd2-efaa-49f3-a155-1c094284ca8a",
   "metadata": {},
   "source": [
    "9. When will you be (or when were you) 10,000 days old?"
   ]
  },
  {
   "cell_type": "code",
   "execution_count": 9,
   "id": "0839e6d0-289c-4347-af46-0dcf35141457",
   "metadata": {},
   "outputs": [
    {
     "name": "stdout",
     "output_type": "stream",
     "text": [
      "Will be 10000 days old on : {new_date}\n"
     ]
    }
   ],
   "source": [
    "from datetime import timedelta\n",
    "\n",
    "new_date = birth_date + timedelta(days=10000)\n",
    "print(\"Will be 10000 days old on : {new_date}\")"
   ]
  },
  {
   "cell_type": "code",
   "execution_count": null,
   "id": "d5d541fc-357d-44a7-a6ec-62c93aab6179",
   "metadata": {},
   "outputs": [],
   "source": []
  }
 ],
 "metadata": {
  "kernelspec": {
   "display_name": "Python 3 (ipykernel)",
   "language": "python",
   "name": "python3"
  },
  "language_info": {
   "codemirror_mode": {
    "name": "ipython",
    "version": 3
   },
   "file_extension": ".py",
   "mimetype": "text/x-python",
   "name": "python",
   "nbconvert_exporter": "python",
   "pygments_lexer": "ipython3",
   "version": "3.8.17"
  }
 },
 "nbformat": 4,
 "nbformat_minor": 5
}

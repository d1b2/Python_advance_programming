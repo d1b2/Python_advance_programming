{
 "cells": [
  {
   "cell_type": "markdown",
   "id": "e64e3e43-0ebf-4c51-aa3d-6ef0a7612d73",
   "metadata": {},
   "source": [
    "Question 1:\n",
    "Please write a program using generator to print the numbers which can be divisible by 5 and 7 between 0 and n in comma separated form while n is input by console.\n",
    "Example:\n",
    "If the following n is given as input to the program:\n",
    "100\n",
    "Then, the output of the program should be:\n",
    "0,35,70"
   ]
  },
  {
   "cell_type": "code",
   "execution_count": 1,
   "id": "2e0e4bf6-9cf3-45a0-a08c-8a87eca3350a",
   "metadata": {},
   "outputs": [
    {
     "name": "stdin",
     "output_type": "stream",
     "text": [
      "Enter a number :  100\n"
     ]
    },
    {
     "name": "stdout",
     "output_type": "stream",
     "text": [
      "0,35,70\n"
     ]
    }
   ],
   "source": [
    "def generator_divisible(n):\n",
    "    for num in range(n + 1):\n",
    "        if num % 5 == 0 and num % 7 == 0:\n",
    "            yield num\n",
    "\n",
    "##Driver Code\n",
    "n = int(input(\"Enter a number : \"))\n",
    "result = generator_divisible(n)\n",
    "    \n",
    "result_list = []\n",
    "for i in result:\n",
    "    result_list.append(str(i))\n",
    "    \n",
    "result_str = \",\".join(result_list)\n",
    "print(result_str)"
   ]
  },
  {
   "cell_type": "markdown",
   "id": "faf95e6e-d570-4c4e-9d4b-b3c369f4632b",
   "metadata": {},
   "source": [
    "Question 2: Please write a program using generator to print the even numbers between 0 and n in comma separated form while n is input by console.\n",
    "Example:\n",
    "If the following n is given as input to the program:\n",
    "10\n",
    "Then, the output of the program should be:\n",
    "0,2,4,6,8,10"
   ]
  },
  {
   "cell_type": "code",
   "execution_count": 2,
   "id": "08fc3c90-a530-4eed-9399-6a736bfd0a74",
   "metadata": {},
   "outputs": [
    {
     "name": "stdin",
     "output_type": "stream",
     "text": [
      "Enter a number :  10\n"
     ]
    },
    {
     "name": "stdout",
     "output_type": "stream",
     "text": [
      "0,2,4,6,8,10\n"
     ]
    }
   ],
   "source": [
    "def generator_even(n):\n",
    "    for num in range(n + 1):\n",
    "        if num % 2 == 0:\n",
    "            yield num\n",
    "\n",
    "##Driver Code\n",
    "n = int(input(\"Enter a number : \"))\n",
    "result = generator_even(n)\n",
    "    \n",
    "result_list = []\n",
    "for i in result:\n",
    "    result_list.append(str(i))\n",
    "    \n",
    "result_str = \",\".join(result_list)\n",
    "print(result_str)"
   ]
  },
  {
   "cell_type": "markdown",
   "id": "40ffa772-7ef0-45b4-9959-f4fa0f5b8b4d",
   "metadata": {},
   "source": [
    "Question 3:The Fibonacci Sequence is computed based on the following formula:\n",
    "f(n)=0 if n=0\n",
    "f(n)=1 if n=1\n",
    "f(n)=f(n-1)+f(n-2) if n>1\n",
    "Please write a program using list comprehension to print the Fibonacci Sequence in comma separated form with a given n input by console.\n",
    "Example:\n",
    "If the following n is given as input to the program:\n",
    "7\n",
    "\n",
    "Then, the output of the program should be:\n",
    "0,1,1,2,3,5,8,13"
   ]
  },
  {
   "cell_type": "code",
   "execution_count": 3,
   "id": "43a7b2b2-2fa9-4038-93e8-3f6f3ab696cd",
   "metadata": {},
   "outputs": [
    {
     "name": "stdin",
     "output_type": "stream",
     "text": [
      "Enter a number:  7\n"
     ]
    },
    {
     "data": {
      "text/plain": [
       "[0, 1, 1, 2, 3, 5, 8, 13]"
      ]
     },
     "execution_count": 3,
     "metadata": {},
     "output_type": "execute_result"
    }
   ],
   "source": [
    "def fibonacci_sequence(n):\n",
    "    fib_list = [0, 1]\n",
    "    [fib_list.append(fib_list[-1] + fib_list[-2]) for _ in range(2, n+1)]\n",
    "    return fib_list[:n+1]\n",
    "\n",
    "##Driver Code\n",
    "n = int(input(\"Enter a number: \"))\n",
    "fibonacci_sequence(n)"
   ]
  },
  {
   "cell_type": "markdown",
   "id": "4e40b46b-a701-45a9-84c1-691c915f213a",
   "metadata": {},
   "source": [
    "Question 4:Assuming that we have some email addresses in the \"username@companyname.com\" format, please write program to print the user name of a given email address. Both user names and company names are composed of letters only.\n",
    "Example:\n",
    "If the following email address is given as input to the program:\n",
    "john@google.com\n",
    "Then, the output of the program should be:\n",
    "john"
   ]
  },
  {
   "cell_type": "code",
   "execution_count": 4,
   "id": "d05d4ddb-9d0d-4591-a251-be71fd473d89",
   "metadata": {},
   "outputs": [
    {
     "data": {
      "text/plain": [
       "'john'"
      ]
     },
     "execution_count": 4,
     "metadata": {},
     "output_type": "execute_result"
    }
   ],
   "source": [
    "def get_username(email:str)->str:\n",
    "    username = email.split('@')[0]\n",
    "    return username\n",
    "\n",
    "##Driver Code\n",
    "email=\"john@google.com\"\n",
    "get_username(email)"
   ]
  },
  {
   "cell_type": "markdown",
   "id": "acc2afc8-39f0-42a0-9cc6-20680ff543bd",
   "metadata": {},
   "source": [
    "Question 5:Define a class named Shape and its subclass Square. The Square class has an init function which takes a length as argument. Both classes have a area function which can print the area of the shape where Shape's area is 0 by default."
   ]
  },
  {
   "cell_type": "code",
   "execution_count": 5,
   "id": "63170296-67ac-4a2f-8601-c531ba22df9e",
   "metadata": {},
   "outputs": [
    {
     "name": "stdout",
     "output_type": "stream",
     "text": [
      "Default area of Shape : 0\n",
      "Area of Square of lenght = 4 : 16\n"
     ]
    }
   ],
   "source": [
    "class Shape:\n",
    "    def __init__(self):\n",
    "        pass\n",
    "    \n",
    "    def area(self):\n",
    "        return 0\n",
    "\n",
    "class Square(Shape):\n",
    "    def __init__(self, length):\n",
    "        self.length = length\n",
    "    \n",
    "    def area(self):\n",
    "        return self.length ** 2\n",
    "\n",
    "##Driver code\n",
    "length=4\n",
    "shape=Shape()\n",
    "square=Square(length)\n",
    "print(f\"Default area of Shape : {shape.area()}\")\n",
    "print(f\"Area of Square of lenght = {length} : {square.area()}\")"
   ]
  },
  {
   "cell_type": "code",
   "execution_count": null,
   "id": "12070792-c0da-475b-bacc-53204def7e9a",
   "metadata": {},
   "outputs": [],
   "source": []
  }
 ],
 "metadata": {
  "kernelspec": {
   "display_name": "Python 3 (ipykernel)",
   "language": "python",
   "name": "python3"
  },
  "language_info": {
   "codemirror_mode": {
    "name": "ipython",
    "version": 3
   },
   "file_extension": ".py",
   "mimetype": "text/x-python",
   "name": "python",
   "nbconvert_exporter": "python",
   "pygments_lexer": "ipython3",
   "version": "3.8.17"
  }
 },
 "nbformat": 4,
 "nbformat_minor": 5
}
